{
  "nbformat": 4,
  "nbformat_minor": 0,
  "metadata": {
    "colab": {
      "name": "Tranformers:Hugginface.ipynb",
      "provenance": [],
      "authorship_tag": "ABX9TyNmgOe6Xlo6tldb4E996wHr",
      "include_colab_link": true
    },
    "kernelspec": {
      "name": "python3",
      "display_name": "Python 3"
    },
    "widgets": {
      "application/vnd.jupyter.widget-state+json": {
        "ed1c8cb9420e41469763d73546a4b043": {
          "model_module": "@jupyter-widgets/controls",
          "model_name": "HBoxModel",
          "state": {
            "_view_name": "HBoxView",
            "_dom_classes": [],
            "_model_name": "HBoxModel",
            "_view_module": "@jupyter-widgets/controls",
            "_model_module_version": "1.5.0",
            "_view_count": null,
            "_view_module_version": "1.5.0",
            "box_style": "",
            "layout": "IPY_MODEL_d4cd0f519db54947b5299897fe5c3a54",
            "_model_module": "@jupyter-widgets/controls",
            "children": [
              "IPY_MODEL_d8fbd987d7a841fe922585ae5fd200a3",
              "IPY_MODEL_234fb05de6b441dab3a3ac2d6bf5f68b"
            ]
          }
        },
        "d4cd0f519db54947b5299897fe5c3a54": {
          "model_module": "@jupyter-widgets/base",
          "model_name": "LayoutModel",
          "state": {
            "_view_name": "LayoutView",
            "grid_template_rows": null,
            "right": null,
            "justify_content": null,
            "_view_module": "@jupyter-widgets/base",
            "overflow": null,
            "_model_module_version": "1.2.0",
            "_view_count": null,
            "flex_flow": null,
            "width": null,
            "min_width": null,
            "border": null,
            "align_items": null,
            "bottom": null,
            "_model_module": "@jupyter-widgets/base",
            "top": null,
            "grid_column": null,
            "overflow_y": null,
            "overflow_x": null,
            "grid_auto_flow": null,
            "grid_area": null,
            "grid_template_columns": null,
            "flex": null,
            "_model_name": "LayoutModel",
            "justify_items": null,
            "grid_row": null,
            "max_height": null,
            "align_content": null,
            "visibility": null,
            "align_self": null,
            "height": null,
            "min_height": null,
            "padding": null,
            "grid_auto_rows": null,
            "grid_gap": null,
            "max_width": null,
            "order": null,
            "_view_module_version": "1.2.0",
            "grid_template_areas": null,
            "object_position": null,
            "object_fit": null,
            "grid_auto_columns": null,
            "margin": null,
            "display": null,
            "left": null
          }
        },
        "d8fbd987d7a841fe922585ae5fd200a3": {
          "model_module": "@jupyter-widgets/controls",
          "model_name": "FloatProgressModel",
          "state": {
            "_view_name": "ProgressView",
            "style": "IPY_MODEL_77c97c7a14fa4969b6bb7b12d44d70bb",
            "_dom_classes": [],
            "description": "Downloading: 100%",
            "_model_name": "FloatProgressModel",
            "bar_style": "success",
            "max": 231508,
            "_view_module": "@jupyter-widgets/controls",
            "_model_module_version": "1.5.0",
            "value": 231508,
            "_view_count": null,
            "_view_module_version": "1.5.0",
            "orientation": "horizontal",
            "min": 0,
            "description_tooltip": null,
            "_model_module": "@jupyter-widgets/controls",
            "layout": "IPY_MODEL_2d1a703d8b844733b7673ae82138684e"
          }
        },
        "234fb05de6b441dab3a3ac2d6bf5f68b": {
          "model_module": "@jupyter-widgets/controls",
          "model_name": "HTMLModel",
          "state": {
            "_view_name": "HTMLView",
            "style": "IPY_MODEL_31ebf0dfb1894d84a6c4aa70f1ad63e5",
            "_dom_classes": [],
            "description": "",
            "_model_name": "HTMLModel",
            "placeholder": "​",
            "_view_module": "@jupyter-widgets/controls",
            "_model_module_version": "1.5.0",
            "value": " 232k/232k [00:00&lt;00:00, 553kB/s]",
            "_view_count": null,
            "_view_module_version": "1.5.0",
            "description_tooltip": null,
            "_model_module": "@jupyter-widgets/controls",
            "layout": "IPY_MODEL_0cac9754026b4a38bb4b8056a3a7042c"
          }
        },
        "77c97c7a14fa4969b6bb7b12d44d70bb": {
          "model_module": "@jupyter-widgets/controls",
          "model_name": "ProgressStyleModel",
          "state": {
            "_view_name": "StyleView",
            "_model_name": "ProgressStyleModel",
            "description_width": "initial",
            "_view_module": "@jupyter-widgets/base",
            "_model_module_version": "1.5.0",
            "_view_count": null,
            "_view_module_version": "1.2.0",
            "bar_color": null,
            "_model_module": "@jupyter-widgets/controls"
          }
        },
        "2d1a703d8b844733b7673ae82138684e": {
          "model_module": "@jupyter-widgets/base",
          "model_name": "LayoutModel",
          "state": {
            "_view_name": "LayoutView",
            "grid_template_rows": null,
            "right": null,
            "justify_content": null,
            "_view_module": "@jupyter-widgets/base",
            "overflow": null,
            "_model_module_version": "1.2.0",
            "_view_count": null,
            "flex_flow": null,
            "width": null,
            "min_width": null,
            "border": null,
            "align_items": null,
            "bottom": null,
            "_model_module": "@jupyter-widgets/base",
            "top": null,
            "grid_column": null,
            "overflow_y": null,
            "overflow_x": null,
            "grid_auto_flow": null,
            "grid_area": null,
            "grid_template_columns": null,
            "flex": null,
            "_model_name": "LayoutModel",
            "justify_items": null,
            "grid_row": null,
            "max_height": null,
            "align_content": null,
            "visibility": null,
            "align_self": null,
            "height": null,
            "min_height": null,
            "padding": null,
            "grid_auto_rows": null,
            "grid_gap": null,
            "max_width": null,
            "order": null,
            "_view_module_version": "1.2.0",
            "grid_template_areas": null,
            "object_position": null,
            "object_fit": null,
            "grid_auto_columns": null,
            "margin": null,
            "display": null,
            "left": null
          }
        },
        "31ebf0dfb1894d84a6c4aa70f1ad63e5": {
          "model_module": "@jupyter-widgets/controls",
          "model_name": "DescriptionStyleModel",
          "state": {
            "_view_name": "StyleView",
            "_model_name": "DescriptionStyleModel",
            "description_width": "",
            "_view_module": "@jupyter-widgets/base",
            "_model_module_version": "1.5.0",
            "_view_count": null,
            "_view_module_version": "1.2.0",
            "_model_module": "@jupyter-widgets/controls"
          }
        },
        "0cac9754026b4a38bb4b8056a3a7042c": {
          "model_module": "@jupyter-widgets/base",
          "model_name": "LayoutModel",
          "state": {
            "_view_name": "LayoutView",
            "grid_template_rows": null,
            "right": null,
            "justify_content": null,
            "_view_module": "@jupyter-widgets/base",
            "overflow": null,
            "_model_module_version": "1.2.0",
            "_view_count": null,
            "flex_flow": null,
            "width": null,
            "min_width": null,
            "border": null,
            "align_items": null,
            "bottom": null,
            "_model_module": "@jupyter-widgets/base",
            "top": null,
            "grid_column": null,
            "overflow_y": null,
            "overflow_x": null,
            "grid_auto_flow": null,
            "grid_area": null,
            "grid_template_columns": null,
            "flex": null,
            "_model_name": "LayoutModel",
            "justify_items": null,
            "grid_row": null,
            "max_height": null,
            "align_content": null,
            "visibility": null,
            "align_self": null,
            "height": null,
            "min_height": null,
            "padding": null,
            "grid_auto_rows": null,
            "grid_gap": null,
            "max_width": null,
            "order": null,
            "_view_module_version": "1.2.0",
            "grid_template_areas": null,
            "object_position": null,
            "object_fit": null,
            "grid_auto_columns": null,
            "margin": null,
            "display": null,
            "left": null
          }
        },
        "1114a0836d884e7f81aacf591d1c6e4f": {
          "model_module": "@jupyter-widgets/controls",
          "model_name": "HBoxModel",
          "state": {
            "_view_name": "HBoxView",
            "_dom_classes": [],
            "_model_name": "HBoxModel",
            "_view_module": "@jupyter-widgets/controls",
            "_model_module_version": "1.5.0",
            "_view_count": null,
            "_view_module_version": "1.5.0",
            "box_style": "",
            "layout": "IPY_MODEL_6e6a73e873ae4df69cde9d181df0a813",
            "_model_module": "@jupyter-widgets/controls",
            "children": [
              "IPY_MODEL_0bd7df83db6e4cd1bfa23aa5685e018b",
              "IPY_MODEL_5d164c0e8ea247b1a329f7913eae8558"
            ]
          }
        },
        "6e6a73e873ae4df69cde9d181df0a813": {
          "model_module": "@jupyter-widgets/base",
          "model_name": "LayoutModel",
          "state": {
            "_view_name": "LayoutView",
            "grid_template_rows": null,
            "right": null,
            "justify_content": null,
            "_view_module": "@jupyter-widgets/base",
            "overflow": null,
            "_model_module_version": "1.2.0",
            "_view_count": null,
            "flex_flow": null,
            "width": null,
            "min_width": null,
            "border": null,
            "align_items": null,
            "bottom": null,
            "_model_module": "@jupyter-widgets/base",
            "top": null,
            "grid_column": null,
            "overflow_y": null,
            "overflow_x": null,
            "grid_auto_flow": null,
            "grid_area": null,
            "grid_template_columns": null,
            "flex": null,
            "_model_name": "LayoutModel",
            "justify_items": null,
            "grid_row": null,
            "max_height": null,
            "align_content": null,
            "visibility": null,
            "align_self": null,
            "height": null,
            "min_height": null,
            "padding": null,
            "grid_auto_rows": null,
            "grid_gap": null,
            "max_width": null,
            "order": null,
            "_view_module_version": "1.2.0",
            "grid_template_areas": null,
            "object_position": null,
            "object_fit": null,
            "grid_auto_columns": null,
            "margin": null,
            "display": null,
            "left": null
          }
        },
        "0bd7df83db6e4cd1bfa23aa5685e018b": {
          "model_module": "@jupyter-widgets/controls",
          "model_name": "FloatProgressModel",
          "state": {
            "_view_name": "ProgressView",
            "style": "IPY_MODEL_c7ee93e5bd3945c686b8ad45bf7c659b",
            "_dom_classes": [],
            "description": "Downloading: 100%",
            "_model_name": "FloatProgressModel",
            "bar_style": "success",
            "max": 629,
            "_view_module": "@jupyter-widgets/controls",
            "_model_module_version": "1.5.0",
            "value": 629,
            "_view_count": null,
            "_view_module_version": "1.5.0",
            "orientation": "horizontal",
            "min": 0,
            "description_tooltip": null,
            "_model_module": "@jupyter-widgets/controls",
            "layout": "IPY_MODEL_8ad96e41c1f6485b9e60046d3c32ec63"
          }
        },
        "5d164c0e8ea247b1a329f7913eae8558": {
          "model_module": "@jupyter-widgets/controls",
          "model_name": "HTMLModel",
          "state": {
            "_view_name": "HTMLView",
            "style": "IPY_MODEL_caea7abee31a4a1e834f12ae3f01eb2c",
            "_dom_classes": [],
            "description": "",
            "_model_name": "HTMLModel",
            "placeholder": "​",
            "_view_module": "@jupyter-widgets/controls",
            "_model_module_version": "1.5.0",
            "value": " 629/629 [00:02&lt;00:00, 211B/s]",
            "_view_count": null,
            "_view_module_version": "1.5.0",
            "description_tooltip": null,
            "_model_module": "@jupyter-widgets/controls",
            "layout": "IPY_MODEL_f8e0f600de7041de81e9b5f713a855c2"
          }
        },
        "c7ee93e5bd3945c686b8ad45bf7c659b": {
          "model_module": "@jupyter-widgets/controls",
          "model_name": "ProgressStyleModel",
          "state": {
            "_view_name": "StyleView",
            "_model_name": "ProgressStyleModel",
            "description_width": "initial",
            "_view_module": "@jupyter-widgets/base",
            "_model_module_version": "1.5.0",
            "_view_count": null,
            "_view_module_version": "1.2.0",
            "bar_color": null,
            "_model_module": "@jupyter-widgets/controls"
          }
        },
        "8ad96e41c1f6485b9e60046d3c32ec63": {
          "model_module": "@jupyter-widgets/base",
          "model_name": "LayoutModel",
          "state": {
            "_view_name": "LayoutView",
            "grid_template_rows": null,
            "right": null,
            "justify_content": null,
            "_view_module": "@jupyter-widgets/base",
            "overflow": null,
            "_model_module_version": "1.2.0",
            "_view_count": null,
            "flex_flow": null,
            "width": null,
            "min_width": null,
            "border": null,
            "align_items": null,
            "bottom": null,
            "_model_module": "@jupyter-widgets/base",
            "top": null,
            "grid_column": null,
            "overflow_y": null,
            "overflow_x": null,
            "grid_auto_flow": null,
            "grid_area": null,
            "grid_template_columns": null,
            "flex": null,
            "_model_name": "LayoutModel",
            "justify_items": null,
            "grid_row": null,
            "max_height": null,
            "align_content": null,
            "visibility": null,
            "align_self": null,
            "height": null,
            "min_height": null,
            "padding": null,
            "grid_auto_rows": null,
            "grid_gap": null,
            "max_width": null,
            "order": null,
            "_view_module_version": "1.2.0",
            "grid_template_areas": null,
            "object_position": null,
            "object_fit": null,
            "grid_auto_columns": null,
            "margin": null,
            "display": null,
            "left": null
          }
        },
        "caea7abee31a4a1e834f12ae3f01eb2c": {
          "model_module": "@jupyter-widgets/controls",
          "model_name": "DescriptionStyleModel",
          "state": {
            "_view_name": "StyleView",
            "_model_name": "DescriptionStyleModel",
            "description_width": "",
            "_view_module": "@jupyter-widgets/base",
            "_model_module_version": "1.5.0",
            "_view_count": null,
            "_view_module_version": "1.2.0",
            "_model_module": "@jupyter-widgets/controls"
          }
        },
        "f8e0f600de7041de81e9b5f713a855c2": {
          "model_module": "@jupyter-widgets/base",
          "model_name": "LayoutModel",
          "state": {
            "_view_name": "LayoutView",
            "grid_template_rows": null,
            "right": null,
            "justify_content": null,
            "_view_module": "@jupyter-widgets/base",
            "overflow": null,
            "_model_module_version": "1.2.0",
            "_view_count": null,
            "flex_flow": null,
            "width": null,
            "min_width": null,
            "border": null,
            "align_items": null,
            "bottom": null,
            "_model_module": "@jupyter-widgets/base",
            "top": null,
            "grid_column": null,
            "overflow_y": null,
            "overflow_x": null,
            "grid_auto_flow": null,
            "grid_area": null,
            "grid_template_columns": null,
            "flex": null,
            "_model_name": "LayoutModel",
            "justify_items": null,
            "grid_row": null,
            "max_height": null,
            "align_content": null,
            "visibility": null,
            "align_self": null,
            "height": null,
            "min_height": null,
            "padding": null,
            "grid_auto_rows": null,
            "grid_gap": null,
            "max_width": null,
            "order": null,
            "_view_module_version": "1.2.0",
            "grid_template_areas": null,
            "object_position": null,
            "object_fit": null,
            "grid_auto_columns": null,
            "margin": null,
            "display": null,
            "left": null
          }
        },
        "470f0790a54a4e2e9170dab39eaee788": {
          "model_module": "@jupyter-widgets/controls",
          "model_name": "HBoxModel",
          "state": {
            "_view_name": "HBoxView",
            "_dom_classes": [],
            "_model_name": "HBoxModel",
            "_view_module": "@jupyter-widgets/controls",
            "_model_module_version": "1.5.0",
            "_view_count": null,
            "_view_module_version": "1.5.0",
            "box_style": "",
            "layout": "IPY_MODEL_9c0cba73d1da4f9c9329ef55dac50917",
            "_model_module": "@jupyter-widgets/controls",
            "children": [
              "IPY_MODEL_bcf5926a57e843d695a9955e58e3a071",
              "IPY_MODEL_699655a661fc4f89ab3bec1547872070"
            ]
          }
        },
        "9c0cba73d1da4f9c9329ef55dac50917": {
          "model_module": "@jupyter-widgets/base",
          "model_name": "LayoutModel",
          "state": {
            "_view_name": "LayoutView",
            "grid_template_rows": null,
            "right": null,
            "justify_content": null,
            "_view_module": "@jupyter-widgets/base",
            "overflow": null,
            "_model_module_version": "1.2.0",
            "_view_count": null,
            "flex_flow": null,
            "width": null,
            "min_width": null,
            "border": null,
            "align_items": null,
            "bottom": null,
            "_model_module": "@jupyter-widgets/base",
            "top": null,
            "grid_column": null,
            "overflow_y": null,
            "overflow_x": null,
            "grid_auto_flow": null,
            "grid_area": null,
            "grid_template_columns": null,
            "flex": null,
            "_model_name": "LayoutModel",
            "justify_items": null,
            "grid_row": null,
            "max_height": null,
            "align_content": null,
            "visibility": null,
            "align_self": null,
            "height": null,
            "min_height": null,
            "padding": null,
            "grid_auto_rows": null,
            "grid_gap": null,
            "max_width": null,
            "order": null,
            "_view_module_version": "1.2.0",
            "grid_template_areas": null,
            "object_position": null,
            "object_fit": null,
            "grid_auto_columns": null,
            "margin": null,
            "display": null,
            "left": null
          }
        },
        "bcf5926a57e843d695a9955e58e3a071": {
          "model_module": "@jupyter-widgets/controls",
          "model_name": "FloatProgressModel",
          "state": {
            "_view_name": "ProgressView",
            "style": "IPY_MODEL_80c42736812e4c24a6528b8879e6f6da",
            "_dom_classes": [],
            "description": "Downloading: 100%",
            "_model_name": "FloatProgressModel",
            "bar_style": "success",
            "max": 231508,
            "_view_module": "@jupyter-widgets/controls",
            "_model_module_version": "1.5.0",
            "value": 231508,
            "_view_count": null,
            "_view_module_version": "1.5.0",
            "orientation": "horizontal",
            "min": 0,
            "description_tooltip": null,
            "_model_module": "@jupyter-widgets/controls",
            "layout": "IPY_MODEL_7c0dc70037d4491d9d4c70a85fbf7529"
          }
        },
        "699655a661fc4f89ab3bec1547872070": {
          "model_module": "@jupyter-widgets/controls",
          "model_name": "HTMLModel",
          "state": {
            "_view_name": "HTMLView",
            "style": "IPY_MODEL_3332ae42861b4eed9efe602a343ee4bb",
            "_dom_classes": [],
            "description": "",
            "_model_name": "HTMLModel",
            "placeholder": "​",
            "_view_module": "@jupyter-widgets/controls",
            "_model_module_version": "1.5.0",
            "value": " 232k/232k [00:02&lt;00:00, 112kB/s]",
            "_view_count": null,
            "_view_module_version": "1.5.0",
            "description_tooltip": null,
            "_model_module": "@jupyter-widgets/controls",
            "layout": "IPY_MODEL_c8ec0f3da2804e798de5e6803fefd4c5"
          }
        },
        "80c42736812e4c24a6528b8879e6f6da": {
          "model_module": "@jupyter-widgets/controls",
          "model_name": "ProgressStyleModel",
          "state": {
            "_view_name": "StyleView",
            "_model_name": "ProgressStyleModel",
            "description_width": "initial",
            "_view_module": "@jupyter-widgets/base",
            "_model_module_version": "1.5.0",
            "_view_count": null,
            "_view_module_version": "1.2.0",
            "bar_color": null,
            "_model_module": "@jupyter-widgets/controls"
          }
        },
        "7c0dc70037d4491d9d4c70a85fbf7529": {
          "model_module": "@jupyter-widgets/base",
          "model_name": "LayoutModel",
          "state": {
            "_view_name": "LayoutView",
            "grid_template_rows": null,
            "right": null,
            "justify_content": null,
            "_view_module": "@jupyter-widgets/base",
            "overflow": null,
            "_model_module_version": "1.2.0",
            "_view_count": null,
            "flex_flow": null,
            "width": null,
            "min_width": null,
            "border": null,
            "align_items": null,
            "bottom": null,
            "_model_module": "@jupyter-widgets/base",
            "top": null,
            "grid_column": null,
            "overflow_y": null,
            "overflow_x": null,
            "grid_auto_flow": null,
            "grid_area": null,
            "grid_template_columns": null,
            "flex": null,
            "_model_name": "LayoutModel",
            "justify_items": null,
            "grid_row": null,
            "max_height": null,
            "align_content": null,
            "visibility": null,
            "align_self": null,
            "height": null,
            "min_height": null,
            "padding": null,
            "grid_auto_rows": null,
            "grid_gap": null,
            "max_width": null,
            "order": null,
            "_view_module_version": "1.2.0",
            "grid_template_areas": null,
            "object_position": null,
            "object_fit": null,
            "grid_auto_columns": null,
            "margin": null,
            "display": null,
            "left": null
          }
        },
        "3332ae42861b4eed9efe602a343ee4bb": {
          "model_module": "@jupyter-widgets/controls",
          "model_name": "DescriptionStyleModel",
          "state": {
            "_view_name": "StyleView",
            "_model_name": "DescriptionStyleModel",
            "description_width": "",
            "_view_module": "@jupyter-widgets/base",
            "_model_module_version": "1.5.0",
            "_view_count": null,
            "_view_module_version": "1.2.0",
            "_model_module": "@jupyter-widgets/controls"
          }
        },
        "c8ec0f3da2804e798de5e6803fefd4c5": {
          "model_module": "@jupyter-widgets/base",
          "model_name": "LayoutModel",
          "state": {
            "_view_name": "LayoutView",
            "grid_template_rows": null,
            "right": null,
            "justify_content": null,
            "_view_module": "@jupyter-widgets/base",
            "overflow": null,
            "_model_module_version": "1.2.0",
            "_view_count": null,
            "flex_flow": null,
            "width": null,
            "min_width": null,
            "border": null,
            "align_items": null,
            "bottom": null,
            "_model_module": "@jupyter-widgets/base",
            "top": null,
            "grid_column": null,
            "overflow_y": null,
            "overflow_x": null,
            "grid_auto_flow": null,
            "grid_area": null,
            "grid_template_columns": null,
            "flex": null,
            "_model_name": "LayoutModel",
            "justify_items": null,
            "grid_row": null,
            "max_height": null,
            "align_content": null,
            "visibility": null,
            "align_self": null,
            "height": null,
            "min_height": null,
            "padding": null,
            "grid_auto_rows": null,
            "grid_gap": null,
            "max_width": null,
            "order": null,
            "_view_module_version": "1.2.0",
            "grid_template_areas": null,
            "object_position": null,
            "object_fit": null,
            "grid_auto_columns": null,
            "margin": null,
            "display": null,
            "left": null
          }
        },
        "a8856a1f574a4d66a2382f782de1c178": {
          "model_module": "@jupyter-widgets/controls",
          "model_name": "HBoxModel",
          "state": {
            "_view_name": "HBoxView",
            "_dom_classes": [],
            "_model_name": "HBoxModel",
            "_view_module": "@jupyter-widgets/controls",
            "_model_module_version": "1.5.0",
            "_view_count": null,
            "_view_module_version": "1.5.0",
            "box_style": "",
            "layout": "IPY_MODEL_4783903ae00943f9a375d0f7ba28241d",
            "_model_module": "@jupyter-widgets/controls",
            "children": [
              "IPY_MODEL_666cd7668a8f40d8b32693e8c01ccacb",
              "IPY_MODEL_32fbe2b04be747ba8b484d70c3a5c530"
            ]
          }
        },
        "4783903ae00943f9a375d0f7ba28241d": {
          "model_module": "@jupyter-widgets/base",
          "model_name": "LayoutModel",
          "state": {
            "_view_name": "LayoutView",
            "grid_template_rows": null,
            "right": null,
            "justify_content": null,
            "_view_module": "@jupyter-widgets/base",
            "overflow": null,
            "_model_module_version": "1.2.0",
            "_view_count": null,
            "flex_flow": null,
            "width": null,
            "min_width": null,
            "border": null,
            "align_items": null,
            "bottom": null,
            "_model_module": "@jupyter-widgets/base",
            "top": null,
            "grid_column": null,
            "overflow_y": null,
            "overflow_x": null,
            "grid_auto_flow": null,
            "grid_area": null,
            "grid_template_columns": null,
            "flex": null,
            "_model_name": "LayoutModel",
            "justify_items": null,
            "grid_row": null,
            "max_height": null,
            "align_content": null,
            "visibility": null,
            "align_self": null,
            "height": null,
            "min_height": null,
            "padding": null,
            "grid_auto_rows": null,
            "grid_gap": null,
            "max_width": null,
            "order": null,
            "_view_module_version": "1.2.0",
            "grid_template_areas": null,
            "object_position": null,
            "object_fit": null,
            "grid_auto_columns": null,
            "margin": null,
            "display": null,
            "left": null
          }
        },
        "666cd7668a8f40d8b32693e8c01ccacb": {
          "model_module": "@jupyter-widgets/controls",
          "model_name": "FloatProgressModel",
          "state": {
            "_view_name": "ProgressView",
            "style": "IPY_MODEL_bf669916054a4d58869e8048a3e7045d",
            "_dom_classes": [],
            "description": "Downloading: 100%",
            "_model_name": "FloatProgressModel",
            "bar_style": "success",
            "max": 230,
            "_view_module": "@jupyter-widgets/controls",
            "_model_module_version": "1.5.0",
            "value": 230,
            "_view_count": null,
            "_view_module_version": "1.5.0",
            "orientation": "horizontal",
            "min": 0,
            "description_tooltip": null,
            "_model_module": "@jupyter-widgets/controls",
            "layout": "IPY_MODEL_2014d77ebae3441d8b1754a2d7a358fd"
          }
        },
        "32fbe2b04be747ba8b484d70c3a5c530": {
          "model_module": "@jupyter-widgets/controls",
          "model_name": "HTMLModel",
          "state": {
            "_view_name": "HTMLView",
            "style": "IPY_MODEL_110b9e3fe2f84cd78697aacd703ebcd2",
            "_dom_classes": [],
            "description": "",
            "_model_name": "HTMLModel",
            "placeholder": "​",
            "_view_module": "@jupyter-widgets/controls",
            "_model_module_version": "1.5.0",
            "value": " 230/230 [00:11&lt;00:00, 20.7B/s]",
            "_view_count": null,
            "_view_module_version": "1.5.0",
            "description_tooltip": null,
            "_model_module": "@jupyter-widgets/controls",
            "layout": "IPY_MODEL_3c116a6254194e2ebed77e17bf2665d5"
          }
        },
        "bf669916054a4d58869e8048a3e7045d": {
          "model_module": "@jupyter-widgets/controls",
          "model_name": "ProgressStyleModel",
          "state": {
            "_view_name": "StyleView",
            "_model_name": "ProgressStyleModel",
            "description_width": "initial",
            "_view_module": "@jupyter-widgets/base",
            "_model_module_version": "1.5.0",
            "_view_count": null,
            "_view_module_version": "1.2.0",
            "bar_color": null,
            "_model_module": "@jupyter-widgets/controls"
          }
        },
        "2014d77ebae3441d8b1754a2d7a358fd": {
          "model_module": "@jupyter-widgets/base",
          "model_name": "LayoutModel",
          "state": {
            "_view_name": "LayoutView",
            "grid_template_rows": null,
            "right": null,
            "justify_content": null,
            "_view_module": "@jupyter-widgets/base",
            "overflow": null,
            "_model_module_version": "1.2.0",
            "_view_count": null,
            "flex_flow": null,
            "width": null,
            "min_width": null,
            "border": null,
            "align_items": null,
            "bottom": null,
            "_model_module": "@jupyter-widgets/base",
            "top": null,
            "grid_column": null,
            "overflow_y": null,
            "overflow_x": null,
            "grid_auto_flow": null,
            "grid_area": null,
            "grid_template_columns": null,
            "flex": null,
            "_model_name": "LayoutModel",
            "justify_items": null,
            "grid_row": null,
            "max_height": null,
            "align_content": null,
            "visibility": null,
            "align_self": null,
            "height": null,
            "min_height": null,
            "padding": null,
            "grid_auto_rows": null,
            "grid_gap": null,
            "max_width": null,
            "order": null,
            "_view_module_version": "1.2.0",
            "grid_template_areas": null,
            "object_position": null,
            "object_fit": null,
            "grid_auto_columns": null,
            "margin": null,
            "display": null,
            "left": null
          }
        },
        "110b9e3fe2f84cd78697aacd703ebcd2": {
          "model_module": "@jupyter-widgets/controls",
          "model_name": "DescriptionStyleModel",
          "state": {
            "_view_name": "StyleView",
            "_model_name": "DescriptionStyleModel",
            "description_width": "",
            "_view_module": "@jupyter-widgets/base",
            "_model_module_version": "1.5.0",
            "_view_count": null,
            "_view_module_version": "1.2.0",
            "_model_module": "@jupyter-widgets/controls"
          }
        },
        "3c116a6254194e2ebed77e17bf2665d5": {
          "model_module": "@jupyter-widgets/base",
          "model_name": "LayoutModel",
          "state": {
            "_view_name": "LayoutView",
            "grid_template_rows": null,
            "right": null,
            "justify_content": null,
            "_view_module": "@jupyter-widgets/base",
            "overflow": null,
            "_model_module_version": "1.2.0",
            "_view_count": null,
            "flex_flow": null,
            "width": null,
            "min_width": null,
            "border": null,
            "align_items": null,
            "bottom": null,
            "_model_module": "@jupyter-widgets/base",
            "top": null,
            "grid_column": null,
            "overflow_y": null,
            "overflow_x": null,
            "grid_auto_flow": null,
            "grid_area": null,
            "grid_template_columns": null,
            "flex": null,
            "_model_name": "LayoutModel",
            "justify_items": null,
            "grid_row": null,
            "max_height": null,
            "align_content": null,
            "visibility": null,
            "align_self": null,
            "height": null,
            "min_height": null,
            "padding": null,
            "grid_auto_rows": null,
            "grid_gap": null,
            "max_width": null,
            "order": null,
            "_view_module_version": "1.2.0",
            "grid_template_areas": null,
            "object_position": null,
            "object_fit": null,
            "grid_auto_columns": null,
            "margin": null,
            "display": null,
            "left": null
          }
        },
        "71b9563f8da14c80ac1b6b5bfc352a6d": {
          "model_module": "@jupyter-widgets/controls",
          "model_name": "HBoxModel",
          "state": {
            "_view_name": "HBoxView",
            "_dom_classes": [],
            "_model_name": "HBoxModel",
            "_view_module": "@jupyter-widgets/controls",
            "_model_module_version": "1.5.0",
            "_view_count": null,
            "_view_module_version": "1.5.0",
            "box_style": "",
            "layout": "IPY_MODEL_eaffe65ed40f451aa057aad03864cc82",
            "_model_module": "@jupyter-widgets/controls",
            "children": [
              "IPY_MODEL_418cf1b1bb84450e8bd2ff46bbdd2219",
              "IPY_MODEL_4594a3df868e44a5afc95931e274b7ae"
            ]
          }
        },
        "eaffe65ed40f451aa057aad03864cc82": {
          "model_module": "@jupyter-widgets/base",
          "model_name": "LayoutModel",
          "state": {
            "_view_name": "LayoutView",
            "grid_template_rows": null,
            "right": null,
            "justify_content": null,
            "_view_module": "@jupyter-widgets/base",
            "overflow": null,
            "_model_module_version": "1.2.0",
            "_view_count": null,
            "flex_flow": null,
            "width": null,
            "min_width": null,
            "border": null,
            "align_items": null,
            "bottom": null,
            "_model_module": "@jupyter-widgets/base",
            "top": null,
            "grid_column": null,
            "overflow_y": null,
            "overflow_x": null,
            "grid_auto_flow": null,
            "grid_area": null,
            "grid_template_columns": null,
            "flex": null,
            "_model_name": "LayoutModel",
            "justify_items": null,
            "grid_row": null,
            "max_height": null,
            "align_content": null,
            "visibility": null,
            "align_self": null,
            "height": null,
            "min_height": null,
            "padding": null,
            "grid_auto_rows": null,
            "grid_gap": null,
            "max_width": null,
            "order": null,
            "_view_module_version": "1.2.0",
            "grid_template_areas": null,
            "object_position": null,
            "object_fit": null,
            "grid_auto_columns": null,
            "margin": null,
            "display": null,
            "left": null
          }
        },
        "418cf1b1bb84450e8bd2ff46bbdd2219": {
          "model_module": "@jupyter-widgets/controls",
          "model_name": "FloatProgressModel",
          "state": {
            "_view_name": "ProgressView",
            "style": "IPY_MODEL_6ea70b9345584fa9871853c58fa76da1",
            "_dom_classes": [],
            "description": "Downloading: 100%",
            "_model_name": "FloatProgressModel",
            "bar_style": "success",
            "max": 267844284,
            "_view_module": "@jupyter-widgets/controls",
            "_model_module_version": "1.5.0",
            "value": 267844284,
            "_view_count": null,
            "_view_module_version": "1.5.0",
            "orientation": "horizontal",
            "min": 0,
            "description_tooltip": null,
            "_model_module": "@jupyter-widgets/controls",
            "layout": "IPY_MODEL_a925c3d6a3944c0696d2541b06d8ea2d"
          }
        },
        "4594a3df868e44a5afc95931e274b7ae": {
          "model_module": "@jupyter-widgets/controls",
          "model_name": "HTMLModel",
          "state": {
            "_view_name": "HTMLView",
            "style": "IPY_MODEL_67bcc13427ab4083a35b2eb21d131951",
            "_dom_classes": [],
            "description": "",
            "_model_name": "HTMLModel",
            "placeholder": "​",
            "_view_module": "@jupyter-widgets/controls",
            "_model_module_version": "1.5.0",
            "value": " 268M/268M [00:09&lt;00:00, 27.8MB/s]",
            "_view_count": null,
            "_view_module_version": "1.5.0",
            "description_tooltip": null,
            "_model_module": "@jupyter-widgets/controls",
            "layout": "IPY_MODEL_7b6155f2f9ca4cc6adcc98cbc6414745"
          }
        },
        "6ea70b9345584fa9871853c58fa76da1": {
          "model_module": "@jupyter-widgets/controls",
          "model_name": "ProgressStyleModel",
          "state": {
            "_view_name": "StyleView",
            "_model_name": "ProgressStyleModel",
            "description_width": "initial",
            "_view_module": "@jupyter-widgets/base",
            "_model_module_version": "1.5.0",
            "_view_count": null,
            "_view_module_version": "1.2.0",
            "bar_color": null,
            "_model_module": "@jupyter-widgets/controls"
          }
        },
        "a925c3d6a3944c0696d2541b06d8ea2d": {
          "model_module": "@jupyter-widgets/base",
          "model_name": "LayoutModel",
          "state": {
            "_view_name": "LayoutView",
            "grid_template_rows": null,
            "right": null,
            "justify_content": null,
            "_view_module": "@jupyter-widgets/base",
            "overflow": null,
            "_model_module_version": "1.2.0",
            "_view_count": null,
            "flex_flow": null,
            "width": null,
            "min_width": null,
            "border": null,
            "align_items": null,
            "bottom": null,
            "_model_module": "@jupyter-widgets/base",
            "top": null,
            "grid_column": null,
            "overflow_y": null,
            "overflow_x": null,
            "grid_auto_flow": null,
            "grid_area": null,
            "grid_template_columns": null,
            "flex": null,
            "_model_name": "LayoutModel",
            "justify_items": null,
            "grid_row": null,
            "max_height": null,
            "align_content": null,
            "visibility": null,
            "align_self": null,
            "height": null,
            "min_height": null,
            "padding": null,
            "grid_auto_rows": null,
            "grid_gap": null,
            "max_width": null,
            "order": null,
            "_view_module_version": "1.2.0",
            "grid_template_areas": null,
            "object_position": null,
            "object_fit": null,
            "grid_auto_columns": null,
            "margin": null,
            "display": null,
            "left": null
          }
        },
        "67bcc13427ab4083a35b2eb21d131951": {
          "model_module": "@jupyter-widgets/controls",
          "model_name": "DescriptionStyleModel",
          "state": {
            "_view_name": "StyleView",
            "_model_name": "DescriptionStyleModel",
            "description_width": "",
            "_view_module": "@jupyter-widgets/base",
            "_model_module_version": "1.5.0",
            "_view_count": null,
            "_view_module_version": "1.2.0",
            "_model_module": "@jupyter-widgets/controls"
          }
        },
        "7b6155f2f9ca4cc6adcc98cbc6414745": {
          "model_module": "@jupyter-widgets/base",
          "model_name": "LayoutModel",
          "state": {
            "_view_name": "LayoutView",
            "grid_template_rows": null,
            "right": null,
            "justify_content": null,
            "_view_module": "@jupyter-widgets/base",
            "overflow": null,
            "_model_module_version": "1.2.0",
            "_view_count": null,
            "flex_flow": null,
            "width": null,
            "min_width": null,
            "border": null,
            "align_items": null,
            "bottom": null,
            "_model_module": "@jupyter-widgets/base",
            "top": null,
            "grid_column": null,
            "overflow_y": null,
            "overflow_x": null,
            "grid_auto_flow": null,
            "grid_area": null,
            "grid_template_columns": null,
            "flex": null,
            "_model_name": "LayoutModel",
            "justify_items": null,
            "grid_row": null,
            "max_height": null,
            "align_content": null,
            "visibility": null,
            "align_self": null,
            "height": null,
            "min_height": null,
            "padding": null,
            "grid_auto_rows": null,
            "grid_gap": null,
            "max_width": null,
            "order": null,
            "_view_module_version": "1.2.0",
            "grid_template_areas": null,
            "object_position": null,
            "object_fit": null,
            "grid_auto_columns": null,
            "margin": null,
            "display": null,
            "left": null
          }
        },
        "311cdf3c1c294688a547490495967089": {
          "model_module": "@jupyter-widgets/controls",
          "model_name": "HBoxModel",
          "state": {
            "_view_name": "HBoxView",
            "_dom_classes": [],
            "_model_name": "HBoxModel",
            "_view_module": "@jupyter-widgets/controls",
            "_model_module_version": "1.5.0",
            "_view_count": null,
            "_view_module_version": "1.5.0",
            "box_style": "",
            "layout": "IPY_MODEL_d0a6c36d074b4edf80b8a1163235e24d",
            "_model_module": "@jupyter-widgets/controls",
            "children": [
              "IPY_MODEL_0d7a46d352744d58adc8ff6d00588d58",
              "IPY_MODEL_62d6df10c9df44dc8248a57921ee5776"
            ]
          }
        },
        "d0a6c36d074b4edf80b8a1163235e24d": {
          "model_module": "@jupyter-widgets/base",
          "model_name": "LayoutModel",
          "state": {
            "_view_name": "LayoutView",
            "grid_template_rows": null,
            "right": null,
            "justify_content": null,
            "_view_module": "@jupyter-widgets/base",
            "overflow": null,
            "_model_module_version": "1.2.0",
            "_view_count": null,
            "flex_flow": null,
            "width": null,
            "min_width": null,
            "border": null,
            "align_items": null,
            "bottom": null,
            "_model_module": "@jupyter-widgets/base",
            "top": null,
            "grid_column": null,
            "overflow_y": null,
            "overflow_x": null,
            "grid_auto_flow": null,
            "grid_area": null,
            "grid_template_columns": null,
            "flex": null,
            "_model_name": "LayoutModel",
            "justify_items": null,
            "grid_row": null,
            "max_height": null,
            "align_content": null,
            "visibility": null,
            "align_self": null,
            "height": null,
            "min_height": null,
            "padding": null,
            "grid_auto_rows": null,
            "grid_gap": null,
            "max_width": null,
            "order": null,
            "_view_module_version": "1.2.0",
            "grid_template_areas": null,
            "object_position": null,
            "object_fit": null,
            "grid_auto_columns": null,
            "margin": null,
            "display": null,
            "left": null
          }
        },
        "0d7a46d352744d58adc8ff6d00588d58": {
          "model_module": "@jupyter-widgets/controls",
          "model_name": "FloatProgressModel",
          "state": {
            "_view_name": "ProgressView",
            "style": "IPY_MODEL_247c8ddf52f84bb89bb4ddf2c11e8f63",
            "_dom_classes": [],
            "description": "Downloading: 100%",
            "_model_name": "FloatProgressModel",
            "bar_style": "success",
            "max": 230,
            "_view_module": "@jupyter-widgets/controls",
            "_model_module_version": "1.5.0",
            "value": 230,
            "_view_count": null,
            "_view_module_version": "1.5.0",
            "orientation": "horizontal",
            "min": 0,
            "description_tooltip": null,
            "_model_module": "@jupyter-widgets/controls",
            "layout": "IPY_MODEL_792d753b15d045a895db166be86879c8"
          }
        },
        "62d6df10c9df44dc8248a57921ee5776": {
          "model_module": "@jupyter-widgets/controls",
          "model_name": "HTMLModel",
          "state": {
            "_view_name": "HTMLView",
            "style": "IPY_MODEL_b949bcc2469d48e2adad211086cd92f1",
            "_dom_classes": [],
            "description": "",
            "_model_name": "HTMLModel",
            "placeholder": "​",
            "_view_module": "@jupyter-widgets/controls",
            "_model_module_version": "1.5.0",
            "value": " 230/230 [00:00&lt;00:00, 267B/s]",
            "_view_count": null,
            "_view_module_version": "1.5.0",
            "description_tooltip": null,
            "_model_module": "@jupyter-widgets/controls",
            "layout": "IPY_MODEL_70cacbfbe23e43fe9a3accfa82ddec04"
          }
        },
        "247c8ddf52f84bb89bb4ddf2c11e8f63": {
          "model_module": "@jupyter-widgets/controls",
          "model_name": "ProgressStyleModel",
          "state": {
            "_view_name": "StyleView",
            "_model_name": "ProgressStyleModel",
            "description_width": "initial",
            "_view_module": "@jupyter-widgets/base",
            "_model_module_version": "1.5.0",
            "_view_count": null,
            "_view_module_version": "1.2.0",
            "bar_color": null,
            "_model_module": "@jupyter-widgets/controls"
          }
        },
        "792d753b15d045a895db166be86879c8": {
          "model_module": "@jupyter-widgets/base",
          "model_name": "LayoutModel",
          "state": {
            "_view_name": "LayoutView",
            "grid_template_rows": null,
            "right": null,
            "justify_content": null,
            "_view_module": "@jupyter-widgets/base",
            "overflow": null,
            "_model_module_version": "1.2.0",
            "_view_count": null,
            "flex_flow": null,
            "width": null,
            "min_width": null,
            "border": null,
            "align_items": null,
            "bottom": null,
            "_model_module": "@jupyter-widgets/base",
            "top": null,
            "grid_column": null,
            "overflow_y": null,
            "overflow_x": null,
            "grid_auto_flow": null,
            "grid_area": null,
            "grid_template_columns": null,
            "flex": null,
            "_model_name": "LayoutModel",
            "justify_items": null,
            "grid_row": null,
            "max_height": null,
            "align_content": null,
            "visibility": null,
            "align_self": null,
            "height": null,
            "min_height": null,
            "padding": null,
            "grid_auto_rows": null,
            "grid_gap": null,
            "max_width": null,
            "order": null,
            "_view_module_version": "1.2.0",
            "grid_template_areas": null,
            "object_position": null,
            "object_fit": null,
            "grid_auto_columns": null,
            "margin": null,
            "display": null,
            "left": null
          }
        },
        "b949bcc2469d48e2adad211086cd92f1": {
          "model_module": "@jupyter-widgets/controls",
          "model_name": "DescriptionStyleModel",
          "state": {
            "_view_name": "StyleView",
            "_model_name": "DescriptionStyleModel",
            "description_width": "",
            "_view_module": "@jupyter-widgets/base",
            "_model_module_version": "1.5.0",
            "_view_count": null,
            "_view_module_version": "1.2.0",
            "_model_module": "@jupyter-widgets/controls"
          }
        },
        "70cacbfbe23e43fe9a3accfa82ddec04": {
          "model_module": "@jupyter-widgets/base",
          "model_name": "LayoutModel",
          "state": {
            "_view_name": "LayoutView",
            "grid_template_rows": null,
            "right": null,
            "justify_content": null,
            "_view_module": "@jupyter-widgets/base",
            "overflow": null,
            "_model_module_version": "1.2.0",
            "_view_count": null,
            "flex_flow": null,
            "width": null,
            "min_width": null,
            "border": null,
            "align_items": null,
            "bottom": null,
            "_model_module": "@jupyter-widgets/base",
            "top": null,
            "grid_column": null,
            "overflow_y": null,
            "overflow_x": null,
            "grid_auto_flow": null,
            "grid_area": null,
            "grid_template_columns": null,
            "flex": null,
            "_model_name": "LayoutModel",
            "justify_items": null,
            "grid_row": null,
            "max_height": null,
            "align_content": null,
            "visibility": null,
            "align_self": null,
            "height": null,
            "min_height": null,
            "padding": null,
            "grid_auto_rows": null,
            "grid_gap": null,
            "max_width": null,
            "order": null,
            "_view_module_version": "1.2.0",
            "grid_template_areas": null,
            "object_position": null,
            "object_fit": null,
            "grid_auto_columns": null,
            "margin": null,
            "display": null,
            "left": null
          }
        }
      }
    },
    "accelerator": "GPU"
  },
  "cells": [
    {
      "cell_type": "markdown",
      "metadata": {
        "id": "view-in-github",
        "colab_type": "text"
      },
      "source": [
        "<a href=\"https://colab.research.google.com/github/Vamsi995/Paraphrase-Generator/blob/master/Tranformers_Hugginface.ipynb\" target=\"_parent\"><img src=\"https://colab.research.google.com/assets/colab-badge.svg\" alt=\"Open In Colab\"/></a>"
      ]
    },
    {
      "cell_type": "markdown",
      "metadata": {
        "id": "_-OebQ_ZVybT",
        "colab_type": "text"
      },
      "source": [
        "# **Transformers** \n",
        "\n",
        "![](data:image/png;base64,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)"
      ]
    },
    {
      "cell_type": "markdown",
      "metadata": {
        "id": "vmbutEglBxdb",
        "colab_type": "text"
      },
      "source": [
        "## **1. Overview**\n",
        "\n",
        "> ### **1.1 Introduction**\n",
        "\n",
        "> The year 2018 has been an inflection point for machine learning models handling text (or more accurately, Natural Language Processing or NLP for short). Our conceptual understanding of how best to represent words and sentences in a way that best captures underlying meanings and relationships is rapidly evolving. Moreover, the NLP community has been putting forward incredibly powerful components that you can freely download and use in your own models and pipelines. Transfer learning, particularly models like Allen AI's ELMO, OpenAI's Open-GPT, and Google's BERT allowed researchers to smash multiple benchmarks with minimal task-specific fine-tuning and provided the rest of the NLP community with pretrained models that could easily (with less data and less compute time) be fine-tuned and implemented to produce state of the art results.\n",
        "\n",
        "## **2. Models Before Transformers**\n",
        "In order to understand how transformers work we need to have some background on the previous breakthroughs which led to its invention. The transformers are built over attention mechanism and the encoder-decoder model, hence there are no recurrent units in the transformer model and you can completely skip learning about RNN although it is better to read about it for better understanding.\n",
        "\n",
        "![](https://lh3.googleusercontent.com/proxy/5xJhduPWUaJJ2x4rLhRzJO3wz4pN0uHlOPpc0FzoMXmuDP-pdmpIwyhBAOWPnV4GuMNUfFIV17UPtKLB0eKhZ4h8jpYVlV-5sCx7ZcmR0BY)\n",
        "\n",
        "\n",
        "\n",
        "> ### **2.1 RNN's & LSTM's**\n",
        "\n",
        "> Back to 2017, most of the people using Neural Networks when working on Natural Language Processing were relying on \n",
        "sequential processing of the input through [Recurrent Neural Network (RNN)](http://karpathy.github.io/2015/05/21/rnn-effectiveness/) and [Long Short Term Memory (LSTM)](http://colah.github.io/posts/2015-08-Understanding-LSTMs/).\n",
        "\n",
        "![rnn](http://colah.github.io/posts/2015-09-NN-Types-FP/img/RNN-general.png)   \n",
        "\n",
        "> RNNs were performing well on large variety of tasks involving sequential dependency over the input sequence. \n",
        "However, this sequentially-dependent process had issues modeling very long range dependencies and \n",
        "was not well suited for the kind of hardware we're currently leveraging due to bad parallelization capabilities. \n",
        "\n",
        "> Some extensions were provided by the academic community, such as Bidirectional RNN ([Schuster & Paliwal., 1997](https://www.researchgate.net/publication/3316656_Bidirectional_recurrent_neural_networks), [Graves & al., 2005](https://mediatum.ub.tum.de/doc/1290195/file.pdf)), \n",
        "which can be seen as a concatenation of two sequential process, one going forward, the other one going backward over the sequence input.\n",
        "\n",
        "![birnn](https://miro.medium.com/max/764/1*6QnPUSv_t9BY9Fv8_aLb-Q.png)\n",
        "\n",
        "\n",
        "> Short Comings: \n",
        "1. Vanishing Gradient Problem of RNN's.\n",
        "2. Even the LSTM's have long term dependency issues with corpus of large text.\n",
        "3. Each NLP task needed a specific stand-alone model.\n",
        "4. Transfer learning is not as flexible as that of CNN's where only the last classifier layer has to be trained. \n",
        "There are implementations where transfer learning was done. For reference [Efficient Transfer Learning Schemes for Personalized Language Modeling using Recurrent Neural Network](https://arxiv.org/abs/1701.03578), [Generative Knowledge Transfer for Neural Language Model](https://arxiv.org/abs/1608.04077) \n",
        "\n",
        "\n",
        "\n",
        "\n",
        "> ### **2.2 Word Embeddings**\n",
        "\n",
        "> For words to be processed by machine learning models, they need some form of numeric representation that models can use in their calculation. Word2Vec showed that we can use a vector (a list of numbers) to properly represent words in a way that captures semantic or meaning-related relationships (e.g. the ability to tell if words are similar, or opposites, or that a pair of words like “Stockholm” and “Sweden” have the same relationship between them as “Cairo” and “Egypt” have between them) as well as syntactic, or grammar-based, relationships (e.g. the relationship between “had” and “has” is the same as that between “was” and “is”).\n",
        "\n",
        "> The field quickly realized it’s a great idea to use embeddings that were pre-trained on vast amounts of text data instead of training them alongside the model on what was frequently a small dataset. So it became possible to download a list of words and their embeddings generated by pre-training with Word2Vec or GloVe. This is an example of the GloVe embedding of the word “stick” (with an embedding vector size of 200).\n",
        "\n",
        "![GloVe](http://jalammar.github.io/images/glove-embedding.png)\n",
        "\n",
        "\n",
        "> ### **2.3 Contextualized Word Embeddings**\n",
        "\n",
        "> If we’re using this GloVe representation, then the word “stick” would be represented by this vector no-matter what the context was. “Wait a minute” said a number of NLP researchers ([Peters et. al., 2017](https://arxiv.org/abs/1705.00108), [McCann et. al., 2017](https://arxiv.org/abs/1708.00107), and yet again [Peters et. al., 2018](https://arxiv.org/pdf/1802.05365.pdf) in the ELMo paper ), “stick”” has multiple meanings depending on where it’s used. Why not give it an embedding based on the context it’s used in – to both capture the word meaning in that context as well as other contextual information?”. And so, contextualized word-embeddings were born.\n",
        "\n",
        "> Instead of using a fixed embedding for each word, ELMo looks at the entire sentence before assigning each word in it an embedding. It uses a bi-directional LSTM trained on a specific task to be able to create those embeddings.\n",
        "\n",
        "> ELMo provided a significant step towards pre-training in the context of NLP. The ELMo LSTM would be trained on a massive dataset in the language of our dataset, and then we can use it as a component in other models that need to handle language.\n",
        "\n",
        "What’s ELMo’s secret?\n",
        "\n",
        "> ELMo gained its language understanding from being trained to predict the next word in a sequence of words - a task called Language Modeling. This is convenient because we have vast amounts of text data that such a model can learn from without needing labels.\n",
        "\n",
        "![ELMo](http://jalammar.github.io/images/Bert-language-modeling.png)\n",
        "\n",
        "*A step in the pre-training process of ELMo: Given “Let’s stick to” as input, predict the next most likely word – a language modeling task. When trained on a large dataset, the model starts to pick up on language patterns. It’s unlikely it’ll accurately guess the next word in this example. More realistically, after a word such as “hang”, it will assign a higher probability to a word like “out” (to spell “hang out”) than to “camera”.*\n",
        "\n",
        "\n",
        "> We can see the hidden state of each unrolled-LSTM step peaking out from behind ELMo’s head. Those come in handy in the embedding process after this pre-training is done.\n",
        "\n",
        "> ELMo actually goes a step further and trains a bi-directional LSTM – so that its language model doesn’t only have a sense of the next word, but also the previous word.\n",
        "\n",
        "![](http://jalammar.github.io/images/elmo-forward-backward-language-model-embedding.png)![alt text](![alt text](https://))\n",
        "\n",
        "> ELMo comes up with the contextualized embedding through grouping together the hidden states (and initial embedding) in a certain way (concatenation followed by weighted summation).\n",
        "\n",
        "![](http://jalammar.github.io/images/elmo-embedding.png)\n",
        "\n",
        "> ULM-FiT introduced methods to effectively utilize a lot of what the model learns during pre-training – more than just embeddings, and more than contextualized embeddings. ULM-FiT introduced a language model and a process to effectively fine-tune that language model for various tasks.\n",
        "\n",
        "> NLP finally had a way to do transfer learning probably as well as Computer Vision could.\n",
        "\n",
        "\n",
        "\n",
        "> ### **2.3 Seq2Seq Models (Encoder-Decoder)**\n",
        "\n",
        "> Sequence-to-sequence models are deep learning models that have achieved a lot of success in tasks like machine translation, text summarization, and image captioning. Google Translate started using such a model in production in late 2016. These models are explained in the two pioneering papers ([Sutskever et al., 2014, Cho et al., 2014](https://papers.nips.cc/paper/5346-sequence-to-sequence-learning-with-neural-networks.pdf)).\n",
        "A sequence-to-sequence model is a model that takes a sequence of items (words, letters, features of an images…etc) and outputs another sequence of items.\n",
        "\n",
        "![](https://miro.medium.com/max/1400/1*1JcHGUU7rFgtXC_mydUA_Q.jpeg)\n",
        "\n",
        "\n",
        "\n",
        "> The model consists of 3 parts: encoder, intermediate (encoder) vector and decoder.\n",
        "\n",
        "1. Encoder:\n",
        "A stack of several recurrent units (LSTM or GRU cells for better performance) where each accepts a single element of the input sequence, collects information for that element and propagates it forward.\n",
        "In question-answering problem, the input sequence is a collection of all words from the question. Each word is represented as x_i where i is the order of that word.\n",
        "The hidden states h_i are computed using the formula:\n",
        "![](https://miro.medium.com/max/1400/1*sKqGIDJm3P8DeSwl0WHGkg.png)\n",
        "> This simple formula represents the result of an ordinary recurrent neural network. As you can see, we just apply the appropriate weights to the previous hidden state h_(t-1) and the input vector x_t.\n",
        "\n",
        "2. Encoder Vector:\n",
        "This is the final hidden state produced from the encoder part of the model. It is calculated using the formula above.\n",
        "This vector aims to encapsulate the information for all input elements in order to help the decoder make accurate predictions.\n",
        "It acts as the initial hidden state of the decoder part of the model.\n",
        "\n",
        "3. Decoder:\n",
        "A stack of several recurrent units where each predicts an output y_t at a time step t.\n",
        "Each recurrent unit accepts a hidden state from the previous unit and produces and output as well as its own hidden state.\n",
        "In the question-answering problem, the output sequence is a collection of all words from the answer. Each word is represented as y_i where i is the order of that word.\n",
        "Any hidden state h_i is computed using the formula:\n",
        "\n",
        "![](https://miro.medium.com/max/1400/1*sdxvcjeV7NOUsR_VQ_nrUQ.png)\n",
        "\n",
        "> As you can see, we are just using the previous hidden state to compute the next one.\n",
        "The output y_t at time step t is computed using the formula:\n",
        "![](https://miro.medium.com/max/1400/1*y5T2-J2mrCRZp5M9Q4METw.png)\n",
        "> We calculate the outputs using the hidden state at the current time step together with the respective weight W(S). Softmax is used to create a probability vector which will help us determine the final output (e.g. word in the question-answering problem).\n",
        "The power of this model lies in the fact that it can map sequences of different lengths to each other. As you can see the inputs and outputs are not correlated and their lengths can differ. This opens a whole new range of problems which can now be solved using such architecture.\n",
        "\n",
        "\n",
        "If you want a deeper visual understanding of seq2seq models I suggest you to go through this blog post - [Visualizing Neural Machine Translation](https://jalammar.github.io/visualizing-neural-machine-translation-mechanics-of-seq2seq-models-with-attention/).\n",
        "\n",
        "\n",
        "> ### **2.4 With Attention Mechanism**\n",
        "\n",
        "> A potential issue with this encoder–decoder approach is that a neural network needs to be able to compress all the necessary information of a source sentence into a fixed-length vector. This may make it difficult for the neural network to cope with long sentences, especially those that are longer than the sentences in the training corpus.\n",
        "\n",
        "\n",
        "\n",
        "\n",
        "\n",
        "![](https://cdn-images-1.medium.com/max/1000/1*XSDr2OcMBYmnOf351KBRpg.jpeg)\n",
        "\n",
        "\n",
        "\n",
        "> The attention mechanism is located between the encoder and the decoder, its input is composed of the encoder’s output vectors h1, h2, h3… and the states of the decoder s1, s2, s3… the attention’s output is a sequence of vectors called context vectors denoted by c1, c2, c3… . The attention mechanism, notice that the input is composed of the encoder’s output h1, h2, h3… and the decoder’s states s1, s2, s3…\n",
        "\n",
        "\n",
        "> Context vectors:\n",
        "The context vectors enable the decoder to focus on certain parts of the input when predicting its output. Each context vector is a weighted sum of the the encoder’s output vectors h1, h2, h3… each vector hi contains information about the whole input sequence (since it has access to the encoder states during its computation) with a strong focus on the parts surrounding the i-th vector of the input sequence. The vectors h1, h2, h3… are scaled by weights ɑij capturing the degree of relevance of input vector xj to output at time i, yi.\n",
        "\n",
        "> The context vectors c1, c2, c3… are given by:\n",
        "![](https://cdn-images-1.medium.com/freeze/max/1000/1*w35I5o4-SPBFD3_d9N9Ciw.jpeg?q=20)\n",
        "\n",
        "> The weights ɑij are learned using an additional fully-connected shallow network, denoted by fc, this is where the s1, s2, s3… part of the input comes into play. Computation of the attention weights is given by:\n",
        "\n",
        "![](https://cdn-images-1.medium.com/freeze/max/1000/1*e33LuC0b8HUcmp_Zl0TS7A.jpeg?q=20)\n",
        "\n",
        "\n",
        "\n",
        "> As can be seen in the image below, the fully-connected network recieves the concatenation of vectors [si-1,hi] as input at time step i. The network has a single fully-connected linear layer, the outputs of the layer ,denoted by eij, are passed through a softmax function computing our αij weights, which lie in [0,1].\n",
        "\n",
        "![](https://3qeqpr26caki16dnhd19sv6by6v-wpengine.netdna-ssl.com/wp-content/uploads/2017/08/Example-of-Attention.png)\n",
        "\n",
        "> Notice that we are using the same fully-connected network for all the concatenated pairs [s0,h1], [s1,h2], [s2,h3]… meaning there is a single network learning the attention αij weights.\n",
        "\n",
        "\n",
        "![](https://cdn-images-1.medium.com/freeze/max/1000/1*8eiGDosDMamFSoQficlSiw.jpeg?q=20)\n",
        "\n",
        "\n",
        "For a deeper understanding I suggest you to watch these videos:\n",
        "\n",
        "1. [Attention Model Intuition](https://www.youtube.com/watch?v=SysgYptB198).\n",
        "2. [Attention Model](https://www.youtube.com/watch?v=quoGRI-1l0A).\n"
      ]
    },
    {
      "cell_type": "markdown",
      "metadata": {
        "id": "us3oNrYaLOV1",
        "colab_type": "text"
      },
      "source": [
        "\n",
        "## **3. Transformers: The New State of the Art**\n",
        "\n",
        "The Transformers era originally started from the work of [Vaswani & al., 2017](https://arxiv.org/abs/1706.03762) who demonstrated its superiority over Recurrent Neural Network (RNN) on translation tasks but it quickly extended to almost all the tasks RNNs were State-of-the-Art at that time.\n",
        "\n",
        "One advantage of Transformer over its RNN counterpart was its non sequential attention model. Remember, the RNNs had to iterate over each element of the input sequence one-by-one and carry an \"updatable-state\" between each hop. With Transformer, the model is able to look at every position in the sequence, at the same time, in one operation.\n",
        "\n",
        "\n",
        "![transformer-encoder-decoder](https://nlp.seas.harvard.edu/images/the-annotated-transformer_14_0.png)\n",
        "\n",
        "\n",
        "\n",
        "\n",
        "To understand this model quite intuitively head over to this [blog post](https://jalammar.github.io/illustrated-transformer/).\n",
        "\n",
        "\n",
        "### **Deconstructing Transformers**\n",
        "\n",
        "\n",
        "Let us consider language translation as our example. A typical transformer model is made of stacks of encoders and decoders.\n",
        "\n",
        "\n",
        "![](https://jalammar.github.io/images/t/The_transformer_encoder_decoder_stack.png)\n",
        "\n",
        "\n",
        "Each of the  encoder and decoder modules are made of different sub layers.\n",
        "\n",
        "![](https://jalammar.github.io/images/t/Transformer_decoder.png)\n",
        "\n",
        "\n",
        "1. Inputs:\n",
        "\n",
        "The input sequence has to be tokenized and should be converted into their corresponding embeddings using an embedding algorithm and should be passed into the bottom most encoder. \n",
        "\n",
        "The abstraction that is common to all the encoders is that they receive a list of vectors each of the size 512(in case of bert model). In the bottom encoder that would be the word embeddings, but in other encoders, it would be the output of the encoder that’s directly below. The size of this list is hyperparameter that can be fine tuned. Usually its the size of the longest sentence in our training dataset.\n",
        "\n",
        "After embedding the words in our input sequence, each of them flows through each of the two layers of the encoder.\n",
        "\n",
        "![](https://jalammar.github.io/images/t/encoder_with_tensors.png)\n",
        "\n",
        "\n",
        "\n",
        "\n",
        "2. **Encoders**\n",
        "\n",
        "> **Self Attention**\n",
        "\n",
        ">> **What is self attention?**\n",
        "\n",
        "   Consider the following sentence: \n",
        "\n",
        "      \"The king has praised the villager because he finished his chores.\"\n",
        "\n",
        "What does he in this sentence refer to, the king or the villager. Here self attention solves this problem for us by associating \"he\" to the villager. This is also called coreference resolution. \n",
        "\n",
        "\n",
        ">> **Self Attention Layer**\n",
        "\n",
        "1. Three vectors have to be made for each of the encoder's input vectors (in this case, the embedding of each word). For each word, we create a Query vector (Q), Key vector (K), and Value vector (V). These vectores are produced by multiplying them with three weight matrices which are trained during the process of training. \n",
        "\n",
        "![](https://jalammar.github.io/images/t/transformer_self_attention_vectors.png)\n",
        "\n",
        "\n",
        "\n",
        "2. The self attention mechanism lets each word see every other word and creates a score for each of these words that indicates the relevance of each word to every other word. Say we’re calculating the self-attention for the first word in this example, “Thinking”. We need to score each word of the input sentence against this word. The score determines how much relevance to place on other words of the input sentence as we encode a word at a certain position. The score is calculated by taking the dot product of the query vector with the key vector of the respective word we’re scoring. So if we’re processing the self-attention for the word in position #1, the first score would be the dot product of q1 and k1. The second score would be the dot product of q1 and k2.\n",
        "\n",
        "\n",
        "3. Softmax normalizes the scores so they’re all positive and add up to 1. Multiply each value vector by the softmax score (in preparation to sum them up). This gives a probability distribution over the keys which are peaked at the ones that are similar to the query. The intuition here is to keep intact the values of the word(s) we want to focus on, and drown-out irrelevant words (by multiplying them by tiny numbers like 0.001, for example). Sum up the weighted value vectors. This produces the output of the self-attention layer at this position (for the first word).\n",
        "\n",
        "![](https://jalammar.github.io/images/t/self-attention-output.png)\n",
        "\n",
        "\n",
        ">> **Multiheaded Attention**\n",
        "\n",
        "It gives the attention layer multiple “representation subspaces”. As we’ll see next, with multi-headed attention we have not only one, but multiple sets of Query/Key/Value weight matrices (the Transformer uses eight attention heads, so we end up with eight sets for each encoder/decoder). Each of these sets is randomly initialized. Then, after training, each set is used to project the input embeddings (or vectors from lower encoders/decoders) into a different representation subspace.\n",
        "\n",
        "\n",
        "![](https://jalammar.github.io/images/t/transformer_multi-headed_self-attention-recap.png)\n",
        "\n",
        "\n",
        ">> **Positional Encoding**\n",
        "\n",
        "Since we are passing all the inputs at once the transformer loses the notion of position during encoding. To solve this the transformer adds a special vector to each of the embedded input vectors. During training the model learns these positional dependencies which helps is to determine the position of each word and hence provides meaningful distances between encoding vectors once they are projected into  Q/K/V vectors.\n",
        "\n",
        "![](https://jalammar.github.io/images/t/transformer_positional_encoding_example.png)\n",
        "\n",
        "\n",
        "3. **Decoders** \n",
        "\n",
        "The encoder outputs a set of attention vectors K and V out of it and it provides and passes it on to each of the decoder. These are to be used by each decoder in its “encoder-decoder attention” layer which helps the decoder focus on appropriate places in the input sequence:\n",
        "\n",
        "![](https://i.stack.imgur.com/SPNEP.png)\n",
        "\n",
        "\n",
        "Each from the decoder is then passed into the bottom most decoder and the decoders bubble up their decoding results just like the encoders did. And just like we did with the encoder inputs, we embed and add positional encoding to those decoder inputs to indicate the position of each word. These steps are repeated until the decoder outputs a special symbol indicating the transformer that the process is complete.\n",
        "\n",
        "In the decoder, the self-attention layer is only allowed to attend to earlier positions in the output sequence. This is done by masking future positions (setting them to -inf) before the softmax step in the self-attention calculation. I suggest you to go through this blog to better understand the masking mechanism in the decoders self attention layer. \n",
        "\n",
        "[Masking in Transformers’ self-attention mechanism](https://medium.com/analytics-vidhya/masking-in-transformers-self-attention-mechanism-bad3c9ec235c)\n",
        "\n",
        "\n",
        "\n",
        "4. **Linear Layer**\n",
        "\n",
        "The linear layers job is to convert the output of the decoder which is a vector of some size, into a word. The Linear layer is a simple fully connected neural network that projects the vector produced by the stack of decoders, into a much, much larger vector called a logits vector.\n",
        "\n",
        "Let’s assume that our model knows 10,000 unique English words (our model’s “output vocabulary”) that it’s learned from its training dataset. This would make the logits vector 10,000 cells wide – each cell corresponding to the score of a unique word. That is how we interpret the output of the model followed by the Linear layer.\n",
        "\n",
        "The softmax layer then turns those scores into probabilities (all positive, all add up to 1.0). The cell with the highest probability is chosen, and the word associated with it is produced as the output for this time step.\n",
        "\n",
        "\n",
        "![](https://jalammar.github.io/images/t/output_target_probability_distributions.png)\n",
        "\n",
        "\n",
        "Now, because the model produces the outputs one at a time, we can assume that the model is selecting the word with the highest probability from that probability distribution and throwing away the rest. That’s one way to do it (called **greedy decoding**). Another way to do it would be to hold on to, say, the top two words (say, ‘I’ and ‘a’ for example), then in the next step, run the model twice: once assuming the first output position was the word ‘I’, and another time assuming the first output position was the word ‘a’, and whichever version produced less error considering both positions #1 and #2 is kept. We repeat this for positions #2 and #3…etc. This method is called “**beam search**”, where in our example, beam_size was two (meaning that at all times, two partial hypotheses (unfinished translations) are kept in memory), and top_beams is also two (meaning we’ll return two translations). These are both hyperparameters that you can experiment with.\n",
        "\n",
        "\n",
        "\n",
        "\n",
        "\n",
        "> Must watch animation for better understanding in the Google blog post: [Transformer: A Novel Neural Network Architecture for Language Understanding](https://ai.googleblog.com/2017/08/transformer-novel-neural-network.html)\n",
        "\n",
        "\n",
        "\n"
      ]
    },
    {
      "cell_type": "markdown",
      "metadata": {
        "id": "XbFEyP7dSnuw",
        "colab_type": "text"
      },
      "source": [
        "\n",
        "## Bert Model\n",
        "\n",
        "BERT (Bidirectional Encoder Representations from Transformers), released in late 2018, is the model we will use in this tutorial to provide readers with a better understanding of and practical guidance for using transfer learning models in NLP. BERT is a method of pretraining language representations that was used to create models that NLP practicioners can then download and use for free. You can either use these models to extract high quality language features from your text data, or you can fine-tune these models on a specific task (classification, entity recognition, question answering, etc.) with your own data to produce state of the art predictions.\n",
        "\n",
        "\n",
        "BERT builds on top of a number of clever ideas that have been bubbling up in the NLP community recently – including but not limited to Semi-supervised Sequence Learning (by Andrew Dai and Quoc Le), ELMo (by Matthew Peters and researchers from AI2 and UW CSE), ULMFiT (by fast.ai founder Jeremy Howard and Sebastian Ruder), the OpenAI transformer (by OpenAI researchers Radford, Narasimhan, Salimans, and Sutskever), and the Transformer (Vaswani et al).\n",
        "\n",
        "![](http://jalammar.github.io/images/bert-transfer-learning.png)\n",
        "\n",
        "The paper presents two model sizes for BERT:\n",
        "\n",
        "1. BERT BASE – Comparable in size to the OpenAI Transformer in order to compare performance.\n",
        "2. BERT LARGE – A ridiculously huge model which achieved the state of the art results reported in the paper\n",
        "3. BERT is basically a trained Transformer Encoder stack i.e BERT does not have any decoders but it consists of only the encoder stack.\n",
        "\n",
        "\n",
        "Both BERT model sizes have a large number of encoder layers (which the paper calls Transformer Blocks) – twelve for the Base version, and twenty four for the Large version. These also have larger feedforward-networks (768 and 1024 hidden units respectively), and more attention heads (12 and 16 respectively) than the default configuration in the reference implementation of the Transformer in the initial paper (6 encoder layers, 512 hidden units, and 8 attention heads).\n",
        "\n",
        "> **Inputs**\n",
        "\n",
        "![Illustration of CLS token purpose](http://www.mccormickml.com/assets/BERT/CLS_token_500x606.png)\n",
        "\n",
        "\n",
        "> The first input token is supplied with a special [CLS] token for reasons that will become apparent later on. CLS here stands for Classification. Just like the vanilla encoder of the transformer, BERT takes a sequence of words as input which keep flowing up the stack. Each layer applies self-attention, and passes its results through a feed-forward network, and then hands it off to the next encoder.\n",
        "\n",
        "\n",
        "> **Output**\n",
        "\n",
        "> Each position outputs a vector of size hidden_size (768 in BERT Base). We focus on the output of only the first position (that we passed the special [CLS] token to). That vector can now be used as the input for a classifier of our choosing. The paper achieves great results by just using a single-layer neural network as the classifier. If you have more labels (for example if you’re an email service that tags emails with “spam”, “not spam”, “social”, and “promotion”), you just tweak the classifier network to have more output neurons that then pass through softmax.\n",
        "\n",
        "> The output from the bert model is nothing but feature extraction. The final vector output from the bert model represents a new embedding of the input sentence with more semantic meaning over the context. In fact this process happens over each encoder. Each encoder tries to change these embedded vector positions into new ones which have more semantic meaning with respect to the context.\n",
        "\n",
        "> The CLS token tries to capture the information regarding the entire sentence as a whole.\n",
        "\n",
        "\n",
        "> **Task Specific Tuning**\n",
        "\n",
        "![Task Specific Models](http://jalammar.github.io/images/bert-tasks.png)\n",
        "\n",
        "\n",
        "If you want to dive into the deeper intricacies in this model I suggest that you go through the reasearch series by [Chris McMormick](https://www.youtube.com/playlist?list=PLam9sigHPGwOBuH4_4fr-XvDbe5uneaf6).\n"
      ]
    },
    {
      "cell_type": "markdown",
      "metadata": {
        "id": "umV4NhRrBxlE",
        "colab_type": "text"
      },
      "source": [
        "## **HuggingFace Tranformers Library**\n",
        "\n",
        "The transformers library is an open-source, community-based repository to train, use and share models based on the Transformer architecture [Vaswani & al., 2017](https://arxiv.org/abs/1706.03762) such as Bert [Devlin & al., 2018](https://arxiv.org/abs/1810.04805), Roberta [Liu & al., 2019](https://arxiv.org/abs/1907.11692), GPT2 [Radford & al., 2019](), XLNet [Yang & al., 2019](), etc.\n",
        "\n",
        "Along with the models, the library contains multiple variations of each of them for a large variety of downstream-tasks like Named Entity Recognition (NER), Sentiment Analysis, Language Modeling, Question Answering and so on.\n",
        "\n",
        "The library builds on three main classes: a configuration class, a tokenizer class, and a model class.\n",
        "1. **Configuration class**: \n",
        "  The configuration class contains some of the hyperparameters of the model like the number of layers, number of attention heads etc...,. We can also configure this to output all the hidden states and attentions from each layer. Below is the config of Distilbert model. \n",
        "\n",
        "\n",
        "        from transformers import DistilBertConfig\n",
        "\n",
        "        print(DistilBertConfig())\n",
        "\n",
        "        DistilBertConfig {\n",
        "          \"activation\": \"gelu\",\n",
        "          \"attention_dropout\": 0.1,\n",
        "          \"dim\": 768,\n",
        "          \"dropout\": 0.1,\n",
        "          \"hidden_dim\": 3072,\n",
        "          \"initializer_range\": 0.02,\n",
        "          \"max_position_embeddings\": 512,\n",
        "          \"model_type\": \"distilbert\",\n",
        "          \"n_heads\": 12,\n",
        "          \"n_layers\": 6,\n",
        "          \"pad_token_id\": 0,\n",
        "          \"qa_dropout\": 0.1,\n",
        "          \"seq_classif_dropout\": 0.2,\n",
        "          \"sinusoidal_pos_embds\": false,\n",
        "          \"vocab_size\": 30522\n",
        "        }\n",
        "\n",
        "\n",
        "\n",
        "\n",
        "2. **Tokenizer Class**: The tokenizer class is responsible for converting the text into tokens which are later converted into word embeddings by the model. This tokenization varies according to the model, therefore each model has its own tokenizer.\n",
        "\n",
        "3. **Model Class**: The model class holds the neural network modeling logic itself. When using a TensorFlow model, it inherits from tf.keras.layers.Layer which means it can be used very simply by the Keras’ fit API or trained using a custom training loop and GradientTape .\n",
        "\n",
        "\n",
        "\n",
        "\n",
        "\n"
      ]
    },
    {
      "cell_type": "markdown",
      "metadata": {
        "id": "zK9RuKBEwkCY",
        "colab_type": "text"
      },
      "source": [
        "## **Quick Start**"
      ]
    },
    {
      "cell_type": "markdown",
      "metadata": {
        "id": "3jfje485wmrX",
        "colab_type": "text"
      },
      "source": [
        "### **Installation**\n",
        "\n",
        "\n",
        "\n"
      ]
    },
    {
      "cell_type": "code",
      "metadata": {
        "id": "gSsyBlcDt8_x",
        "colab_type": "code",
        "colab": {
          "base_uri": "https://localhost:8080/",
          "height": 629
        },
        "outputId": "c59768f1-0e36-48b8-fda1-b6e73a917275"
      },
      "source": [
        "# With pip\n",
        "!pip install transformers\n",
        "\n",
        "# From source\n",
        "# git clone https://github.com/huggingface/transformers.git\n",
        "# cd transformers \n",
        "# pip install .\n"
      ],
      "execution_count": null,
      "outputs": [
        {
          "output_type": "stream",
          "text": [
            "Collecting transformers\n",
            "\u001b[?25l  Downloading https://files.pythonhosted.org/packages/9c/35/1c3f6e62d81f5f0daff1384e6d5e6c5758682a8357ebc765ece2b9def62b/transformers-3.0.0-py3-none-any.whl (754kB)\n",
            "\r\u001b[K     |▍                               | 10kB 27.1MB/s eta 0:00:01\r\u001b[K     |▉                               | 20kB 6.4MB/s eta 0:00:01\r\u001b[K     |█▎                              | 30kB 7.6MB/s eta 0:00:01\r\u001b[K     |█▊                              | 40kB 8.2MB/s eta 0:00:01\r\u001b[K     |██▏                             | 51kB 7.2MB/s eta 0:00:01\r\u001b[K     |██▋                             | 61kB 7.8MB/s eta 0:00:01\r\u001b[K     |███                             | 71kB 8.3MB/s eta 0:00:01\r\u001b[K     |███▌                            | 81kB 8.8MB/s eta 0:00:01\r\u001b[K     |████                            | 92kB 9.0MB/s eta 0:00:01\r\u001b[K     |████▍                           | 102kB 9.4MB/s eta 0:00:01\r\u001b[K     |████▊                           | 112kB 9.4MB/s eta 0:00:01\r\u001b[K     |█████▏                          | 122kB 9.4MB/s eta 0:00:01\r\u001b[K     |█████▋                          | 133kB 9.4MB/s eta 0:00:01\r\u001b[K     |██████                          | 143kB 9.4MB/s eta 0:00:01\r\u001b[K     |██████▌                         | 153kB 9.4MB/s eta 0:00:01\r\u001b[K     |███████                         | 163kB 9.4MB/s eta 0:00:01\r\u001b[K     |███████▍                        | 174kB 9.4MB/s eta 0:00:01\r\u001b[K     |███████▉                        | 184kB 9.4MB/s eta 0:00:01\r\u001b[K     |████████▎                       | 194kB 9.4MB/s eta 0:00:01\r\u001b[K     |████████▊                       | 204kB 9.4MB/s eta 0:00:01\r\u001b[K     |█████████▏                      | 215kB 9.4MB/s eta 0:00:01\r\u001b[K     |█████████▌                      | 225kB 9.4MB/s eta 0:00:01\r\u001b[K     |██████████                      | 235kB 9.4MB/s eta 0:00:01\r\u001b[K     |██████████▍                     | 245kB 9.4MB/s eta 0:00:01\r\u001b[K     |██████████▉                     | 256kB 9.4MB/s eta 0:00:01\r\u001b[K     |███████████▎                    | 266kB 9.4MB/s eta 0:00:01\r\u001b[K     |███████████▊                    | 276kB 9.4MB/s eta 0:00:01\r\u001b[K     |████████████▏                   | 286kB 9.4MB/s eta 0:00:01\r\u001b[K     |████████████▋                   | 296kB 9.4MB/s eta 0:00:01\r\u001b[K     |█████████████                   | 307kB 9.4MB/s eta 0:00:01\r\u001b[K     |█████████████▌                  | 317kB 9.4MB/s eta 0:00:01\r\u001b[K     |██████████████                  | 327kB 9.4MB/s eta 0:00:01\r\u001b[K     |██████████████▎                 | 337kB 9.4MB/s eta 0:00:01\r\u001b[K     |██████████████▊                 | 348kB 9.4MB/s eta 0:00:01\r\u001b[K     |███████████████▏                | 358kB 9.4MB/s eta 0:00:01\r\u001b[K     |███████████████▋                | 368kB 9.4MB/s eta 0:00:01\r\u001b[K     |████████████████                | 378kB 9.4MB/s eta 0:00:01\r\u001b[K     |████████████████▌               | 389kB 9.4MB/s eta 0:00:01\r\u001b[K     |█████████████████               | 399kB 9.4MB/s eta 0:00:01\r\u001b[K     |█████████████████▍              | 409kB 9.4MB/s eta 0:00:01\r\u001b[K     |█████████████████▉              | 419kB 9.4MB/s eta 0:00:01\r\u001b[K     |██████████████████▎             | 430kB 9.4MB/s eta 0:00:01\r\u001b[K     |██████████████████▊             | 440kB 9.4MB/s eta 0:00:01\r\u001b[K     |███████████████████             | 450kB 9.4MB/s eta 0:00:01\r\u001b[K     |███████████████████▌            | 460kB 9.4MB/s eta 0:00:01\r\u001b[K     |████████████████████            | 471kB 9.4MB/s eta 0:00:01\r\u001b[K     |████████████████████▍           | 481kB 9.4MB/s eta 0:00:01\r\u001b[K     |████████████████████▉           | 491kB 9.4MB/s eta 0:00:01\r\u001b[K     |█████████████████████▎          | 501kB 9.4MB/s eta 0:00:01\r\u001b[K     |█████████████████████▊          | 512kB 9.4MB/s eta 0:00:01\r\u001b[K     |██████████████████████▏         | 522kB 9.4MB/s eta 0:00:01\r\u001b[K     |██████████████████████▋         | 532kB 9.4MB/s eta 0:00:01\r\u001b[K     |███████████████████████         | 542kB 9.4MB/s eta 0:00:01\r\u001b[K     |███████████████████████▌        | 552kB 9.4MB/s eta 0:00:01\r\u001b[K     |███████████████████████▉        | 563kB 9.4MB/s eta 0:00:01\r\u001b[K     |████████████████████████▎       | 573kB 9.4MB/s eta 0:00:01\r\u001b[K     |████████████████████████▊       | 583kB 9.4MB/s eta 0:00:01\r\u001b[K     |█████████████████████████▏      | 593kB 9.4MB/s eta 0:00:01\r\u001b[K     |█████████████████████████▋      | 604kB 9.4MB/s eta 0:00:01\r\u001b[K     |██████████████████████████      | 614kB 9.4MB/s eta 0:00:01\r\u001b[K     |██████████████████████████▌     | 624kB 9.4MB/s eta 0:00:01\r\u001b[K     |███████████████████████████     | 634kB 9.4MB/s eta 0:00:01\r\u001b[K     |███████████████████████████▍    | 645kB 9.4MB/s eta 0:00:01\r\u001b[K     |███████████████████████████▉    | 655kB 9.4MB/s eta 0:00:01\r\u001b[K     |████████████████████████████▎   | 665kB 9.4MB/s eta 0:00:01\r\u001b[K     |████████████████████████████▋   | 675kB 9.4MB/s eta 0:00:01\r\u001b[K     |█████████████████████████████   | 686kB 9.4MB/s eta 0:00:01\r\u001b[K     |█████████████████████████████▌  | 696kB 9.4MB/s eta 0:00:01\r\u001b[K     |██████████████████████████████  | 706kB 9.4MB/s eta 0:00:01\r\u001b[K     |██████████████████████████████▍ | 716kB 9.4MB/s eta 0:00:01\r\u001b[K     |██████████████████████████████▉ | 727kB 9.4MB/s eta 0:00:01\r\u001b[K     |███████████████████████████████▎| 737kB 9.4MB/s eta 0:00:01\r\u001b[K     |███████████████████████████████▊| 747kB 9.4MB/s eta 0:00:01\r\u001b[K     |████████████████████████████████| 757kB 9.4MB/s \n",
            "\u001b[?25hRequirement already satisfied: packaging in /usr/local/lib/python3.6/dist-packages (from transformers) (20.4)\n",
            "Collecting tokenizers==0.8.0-rc4\n",
            "\u001b[?25l  Downloading https://files.pythonhosted.org/packages/e8/bd/e5abec46af977c8a1375c1dca7cb1e5b3ec392ef279067af7f6bc50491a0/tokenizers-0.8.0rc4-cp36-cp36m-manylinux1_x86_64.whl (3.0MB)\n",
            "\u001b[K     |████████████████████████████████| 3.0MB 29.3MB/s \n",
            "\u001b[?25hRequirement already satisfied: requests in /usr/local/lib/python3.6/dist-packages (from transformers) (2.23.0)\n",
            "Requirement already satisfied: regex!=2019.12.17 in /usr/local/lib/python3.6/dist-packages (from transformers) (2019.12.20)\n",
            "Collecting sentencepiece\n",
            "\u001b[?25l  Downloading https://files.pythonhosted.org/packages/d4/a4/d0a884c4300004a78cca907a6ff9a5e9fe4f090f5d95ab341c53d28cbc58/sentencepiece-0.1.91-cp36-cp36m-manylinux1_x86_64.whl (1.1MB)\n",
            "\u001b[K     |████████████████████████████████| 1.1MB 58.4MB/s \n",
            "\u001b[?25hCollecting sacremoses\n",
            "\u001b[?25l  Downloading https://files.pythonhosted.org/packages/7d/34/09d19aff26edcc8eb2a01bed8e98f13a1537005d31e95233fd48216eed10/sacremoses-0.0.43.tar.gz (883kB)\n",
            "\u001b[K     |████████████████████████████████| 890kB 56.5MB/s \n",
            "\u001b[?25hRequirement already satisfied: filelock in /usr/local/lib/python3.6/dist-packages (from transformers) (3.0.12)\n",
            "Requirement already satisfied: tqdm>=4.27 in /usr/local/lib/python3.6/dist-packages (from transformers) (4.41.1)\n",
            "Requirement already satisfied: numpy in /usr/local/lib/python3.6/dist-packages (from transformers) (1.18.5)\n",
            "Requirement already satisfied: dataclasses; python_version < \"3.7\" in /usr/local/lib/python3.6/dist-packages (from transformers) (0.7)\n",
            "Requirement already satisfied: six in /usr/local/lib/python3.6/dist-packages (from packaging->transformers) (1.12.0)\n",
            "Requirement already satisfied: pyparsing>=2.0.2 in /usr/local/lib/python3.6/dist-packages (from packaging->transformers) (2.4.7)\n",
            "Requirement already satisfied: certifi>=2017.4.17 in /usr/local/lib/python3.6/dist-packages (from requests->transformers) (2020.6.20)\n",
            "Requirement already satisfied: idna<3,>=2.5 in /usr/local/lib/python3.6/dist-packages (from requests->transformers) (2.9)\n",
            "Requirement already satisfied: chardet<4,>=3.0.2 in /usr/local/lib/python3.6/dist-packages (from requests->transformers) (3.0.4)\n",
            "Requirement already satisfied: urllib3!=1.25.0,!=1.25.1,<1.26,>=1.21.1 in /usr/local/lib/python3.6/dist-packages (from requests->transformers) (1.24.3)\n",
            "Requirement already satisfied: click in /usr/local/lib/python3.6/dist-packages (from sacremoses->transformers) (7.1.2)\n",
            "Requirement already satisfied: joblib in /usr/local/lib/python3.6/dist-packages (from sacremoses->transformers) (0.15.1)\n",
            "Building wheels for collected packages: sacremoses\n",
            "  Building wheel for sacremoses (setup.py) ... \u001b[?25l\u001b[?25hdone\n",
            "  Created wheel for sacremoses: filename=sacremoses-0.0.43-cp36-none-any.whl size=893260 sha256=ad5414e39f20db559234e60d1b4e9b49833d055a34450362bc8efce07ebf008f\n",
            "  Stored in directory: /root/.cache/pip/wheels/29/3c/fd/7ce5c3f0666dab31a50123635e6fb5e19ceb42ce38d4e58f45\n",
            "Successfully built sacremoses\n",
            "Installing collected packages: tokenizers, sentencepiece, sacremoses, transformers\n",
            "Successfully installed sacremoses-0.0.43 sentencepiece-0.1.91 tokenizers-0.8.0rc4 transformers-3.0.0\n"
          ],
          "name": "stdout"
        }
      ]
    },
    {
      "cell_type": "markdown",
      "metadata": {
        "id": "bA-Rd5Mlup0N",
        "colab_type": "text"
      },
      "source": [
        "### **Basic Terminology**\n",
        "\n",
        "Similar to the RNN and LSTM models the transformer model also takes in tokenized input but unlike them it takes the input at once rather than sequentially. Every transformer model is different as they have different configurations but one thing they have in common is that they take inputs in the same way. So let us understand how to provide inputs to these models.\n",
        "\n"
      ]
    },
    {
      "cell_type": "markdown",
      "metadata": {
        "id": "7xvJYDHZ3CoY",
        "colab_type": "text"
      },
      "source": [
        "#### **Input ID's**\n",
        "\n",
        "Here we will be using tokenizer class to understand what these Input ID's are. Do note that every transformer model has a unique tokenizer which takes different parameters but produces these Input ID's which are fed into the transformer model. Each word in given a unique ID (Input ID) which distinguishes that word from the rest."
      ]
    },
    {
      "cell_type": "code",
      "metadata": {
        "id": "potLYO9t3G_C",
        "colab_type": "code",
        "cellView": "code",
        "colab": {
          "base_uri": "https://localhost:8080/",
          "height": 211,
          "referenced_widgets": [
            "ed1c8cb9420e41469763d73546a4b043",
            "d4cd0f519db54947b5299897fe5c3a54",
            "d8fbd987d7a841fe922585ae5fd200a3",
            "234fb05de6b441dab3a3ac2d6bf5f68b",
            "77c97c7a14fa4969b6bb7b12d44d70bb",
            "2d1a703d8b844733b7673ae82138684e",
            "31ebf0dfb1894d84a6c4aa70f1ad63e5",
            "0cac9754026b4a38bb4b8056a3a7042c"
          ]
        },
        "outputId": "3b585233-483f-4283-e0cd-ee9b62255382"
      },
      "source": [
        "#@title Default title text\n",
        "from transformers import BertTokenizer\n",
        "\n",
        "# Here Bert is a transformer model. And we are using Bert's tokenizer.\n",
        "\n",
        "# from_pretrained() here instantiates a pretrained tokenizer.\n",
        "# Here \"bert-base-uncased\" is the models name.\n",
        "tokenizer = BertTokenizer.from_pretrained(\"bert-base-uncased\")\n",
        "\n",
        "# print(len(tokenizer.vocab.keys()))\n",
        "input_text = \"Hey I am an input text.\"\n",
        "\n",
        "# Splitting the sentence into words\n",
        "tokens = tokenizer.tokenize(input_text)\n",
        "print(f\"Tokens: {tokens}\")\n",
        "\n",
        "#Converts tokens into ID's\n",
        "input_ids = tokenizer.convert_tokens_to_ids(tokens)\n",
        "print(f\"Input ID's: {input_ids}\")\n",
        "\n",
        "# In case you want the tokens back from input_ids in an array\n",
        "tokens = tokenizer.convert_ids_to_tokens(input_ids)\n",
        "print(f\"Tokens from Input ID's: {tokens}\")\n",
        "\n",
        "print()\n",
        "\n",
        "# Instead of doing these two steps we can reduce it to one using the encode() or encode_plus() functions\n",
        "input_ids = tokenizer.encode(input_text)\n",
        "print(f\"Input ID's with encode: {input_ids}\")\n",
        "\n",
        "# We can see that some additional tokens have been added when we used encode(). These are special tokens and are specific to the model's tokenizer. And this is one of the reason why tokenizer is unique to each model. And one other reason is that each model has a different vocabulary set.\n",
        "\n",
        "# We can see what these additional tokens are using the decode() function\n",
        "tokens = tokenizer.decode(input_ids)\n",
        "print(f\"Decoded tokens: {tokens}\")\n",
        "print(type(tokens))\n",
        "# Do note that decode gives a string instance\n",
        "\n",
        "# In this case [CLS] and [SEP] tokens are specific to the BERT model and we will discuss this in the pretrained models section.\n",
        "\n",
        "# In case you want the tokens back from input_ids in an array\n",
        "tokens = tokenizer.convert_ids_to_tokens(input_ids)\n",
        "print(f\"Tokens from Input ID's: {tokens}\")\n"
      ],
      "execution_count": null,
      "outputs": [
        {
          "output_type": "display_data",
          "data": {
            "application/vnd.jupyter.widget-view+json": {
              "model_id": "ed1c8cb9420e41469763d73546a4b043",
              "version_minor": 0,
              "version_major": 2
            },
            "text/plain": [
              "HBox(children=(FloatProgress(value=0.0, description='Downloading', max=231508.0, style=ProgressStyle(descripti…"
            ]
          },
          "metadata": {
            "tags": []
          }
        },
        {
          "output_type": "stream",
          "text": [
            "\n",
            "Tokens: ['hey', 'i', 'am', 'an', 'input', 'text', '.']\n",
            "Input ID's: [4931, 1045, 2572, 2019, 7953, 3793, 1012]\n",
            "Tokens from Input ID's: ['hey', 'i', 'am', 'an', 'input', 'text', '.']\n",
            "\n",
            "Input ID's with encode: [101, 4931, 1045, 2572, 2019, 7953, 3793, 1012, 102]\n",
            "Decoded tokens: [CLS] hey i am an input text. [SEP]\n",
            "<class 'str'>\n",
            "Tokens from Input ID's: ['[CLS]', 'hey', 'i', 'am', 'an', 'input', 'text', '.', '[SEP]']\n"
          ],
          "name": "stdout"
        }
      ]
    },
    {
      "cell_type": "markdown",
      "metadata": {
        "id": "jb2hyRlo9FJr",
        "colab_type": "text"
      },
      "source": [
        "#### **Attention masks**\n",
        "\n",
        "\n",
        "The attention mask is an optional argument used when batching sequences together. This argument indicates to the model which tokens should be attended to, and which should not.\n",
        "\n",
        "A transformer takes a fixed size of input i.e for example BERT model takes a maximum of 512 tokens as its input. Incase we have inputs having unequal numbers of tokens they have to be padded to be of the same size so that they can be passed as inputs. The attention mask is a binary tensor indicating the position of the padded indices so that the model does not attend to them. For the BertTokenizer, 1 indicate a value that should be attended to while 0 indicate a padded value."
      ]
    },
    {
      "cell_type": "code",
      "metadata": {
        "id": "4e9ZEl8aztlB",
        "colab_type": "code",
        "colab": {
          "base_uri": "https://localhost:8080/",
          "height": 161
        },
        "outputId": "a88a0f7f-40a0-42ca-ec4b-daf525053cd2"
      },
      "source": [
        "from transformers import BertTokenizer\n",
        "\n",
        "# Here Bert is a transformer model.\n",
        "\n",
        "# from_pretrained() here instantiates a pretrained tokenizer.\n",
        "# Here \"bert-base-uncased\" is the models name - we will see this in the pretrained models section.\n",
        "tokenizer = BertTokenizer.from_pretrained(\"bert-base-uncased\")\n",
        "\n",
        "long_text = \"Hey I am the input text.\"\n",
        "short_text = \"This is short.\"\n",
        "\n",
        "input_ids_1 = tokenizer.encode(long_text)\n",
        "input_ids_2 = tokenizer.encode(short_text)\n",
        "\n",
        "print(f\"input_ids_1: {input_ids_1}, length={len(input_ids_1)}\")\n",
        "print(f\"input_ids_2: {input_ids_2}, length={len(input_ids_2)}\")\n",
        "\n",
        "# We can see that we have to pad input_ids_2 to make it to a length of 9.\n",
        "input_ids_2 = tokenizer.encode(short_text,max_length=9, pad_to_max_length=True)\n",
        "print(f\"input_ids_2: {input_ids_2}, length={len(input_ids_2)}\")\n",
        "\n",
        "attention_mask=[]\n",
        "for i in input_ids_2:\n",
        "  if (i != 0 ):\n",
        "      attention_mask.append(1)\n",
        "  else:\n",
        "    attention_mask.append(0)\n",
        "print(f\"Attention Mask: {attention_mask}\")\n",
        "\n",
        "print()\n",
        "\n",
        "# In order to obtain the attention masks the simplest way is to use encode_plus()\n",
        "input_dict = tokenizer.encode_plus(short_text,max_length=9, pad_to_max_length=True)\n",
        "print(f\"encode_plus() output: {input_dict}\")\n",
        "\n",
        "input_ids_2 = input_dict[\"input_ids\"]\n",
        "print(f\"input_ids_2: {input_ids_2}, length={len(input_ids_2)}\")\n",
        "attention_mask = input_dict[\"attention_mask\"]\n",
        "print(f\"Attention Mask: {attention_mask}\")"
      ],
      "execution_count": null,
      "outputs": [
        {
          "output_type": "stream",
          "text": [
            "input_ids_1: [101, 4931, 1045, 2572, 1996, 7953, 3793, 1012, 102], length=9\n",
            "input_ids_2: [101, 2023, 2003, 2460, 1012, 102], length=6\n",
            "input_ids_2: [101, 2023, 2003, 2460, 1012, 102, 0, 0, 0], length=9\n",
            "Attention Mask: [1, 1, 1, 1, 1, 1, 0, 0, 0]\n",
            "\n",
            "encode_plus() output: {'input_ids': [101, 2023, 2003, 2460, 1012, 102, 0, 0, 0], 'token_type_ids': [0, 0, 0, 0, 0, 0, 0, 0, 0], 'attention_mask': [1, 1, 1, 1, 1, 1, 0, 0, 0]}\n",
            "input_ids_2: [101, 2023, 2003, 2460, 1012, 102, 0, 0, 0], length=9\n",
            "Attention Mask: [1, 1, 1, 1, 1, 1, 0, 0, 0]\n"
          ],
          "name": "stdout"
        }
      ]
    },
    {
      "cell_type": "markdown",
      "metadata": {
        "id": "7pJ1-K3mDs4b",
        "colab_type": "text"
      },
      "source": [
        "#### **Token Type ID's**\n",
        "\n",
        "Some models’ purpose is to do sequence classification or question answering. These require two different sequences to be encoded in the same input IDs. The Token Type IDs are a binary mask identifying the different sequences in the model."
      ]
    },
    {
      "cell_type": "code",
      "metadata": {
        "id": "31S_PltdDw9L",
        "colab_type": "code",
        "colab": {
          "base_uri": "https://localhost:8080/",
          "height": 127
        },
        "outputId": "74f86bbd-3f00-4485-ccd9-9e21a8324275"
      },
      "source": [
        "from transformers import BertTokenizer\n",
        "\n",
        "tokenizer = BertTokenizer.from_pretrained(\"bert-base-uncased\")\n",
        "\n",
        "input_text_1 = \"Hey this is the first sequence\"\n",
        "input_text_2 = \"This is the second text\"\n",
        "\n",
        "input_dict = tokenizer.encode_plus(input_text_1,input_text_2)\n",
        "print(f\"encode_plus() output: {input_dict}\")\n",
        "\n",
        "print()\n",
        "\n",
        "input_ids = input_dict[\"input_ids\"]\n",
        "print(f\"input_ids_2: {input_ids_2}\")\n",
        "\n",
        "decoded_sentence = tokenizer.convert_ids_to_tokens(input_ids)\n",
        "print(f\"Tokens: {decoded_sentence}\")\n",
        "\n",
        "# We can see here that 0's represent one input sentence and 1's represent the other input sentence\n",
        "token_type_ids = input_dict[\"token_type_ids\"]\n",
        "print(f\"token_type_ids: {token_type_ids}\")"
      ],
      "execution_count": null,
      "outputs": [
        {
          "output_type": "stream",
          "text": [
            "encode_plus() output: {'input_ids': [101, 4931, 2023, 2003, 1996, 2034, 5537, 102, 2023, 2003, 1996, 2117, 3793, 102], 'token_type_ids': [0, 0, 0, 0, 0, 0, 0, 0, 1, 1, 1, 1, 1, 1], 'attention_mask': [1, 1, 1, 1, 1, 1, 1, 1, 1, 1, 1, 1, 1, 1]}\n",
            "\n",
            "input_ids_2: [101, 2023, 2003, 2460, 1012, 102, 0, 0, 0]\n",
            "Tokens: ['[CLS]', 'hey', 'this', 'is', 'the', 'first', 'sequence', '[SEP]', 'this', 'is', 'the', 'second', 'text', '[SEP]']\n",
            "token_type_ids: [0, 0, 0, 0, 0, 0, 0, 0, 1, 1, 1, 1, 1, 1]\n"
          ],
          "name": "stdout"
        }
      ]
    },
    {
      "cell_type": "markdown",
      "metadata": {
        "id": "Tfk0G1EXPvaN",
        "colab_type": "text"
      },
      "source": [
        "### More on tokenizer\n",
        "\n",
        "https://colab.research.google.com/drive/19sODZkJ7WATbJkrZbb_aVcDUvM-fsPiL#scrollTo=31S_PltdDw9L&line=24&uniqifier=1\n"
      ]
    },
    {
      "cell_type": "markdown",
      "metadata": {
        "id": "7SkPziItKULO",
        "colab_type": "text"
      },
      "source": [
        "## **Using a Model**\n",
        "\n",
        "I will be using DistilBert to demonstrate the models as going through all the models is quite cumbersome. DistilBert is a toned down version(lesser trainable parameters) of Bert model but with almost same accuracy. So let us explore the [distilbert model](https://huggingface.co/transformers/model_doc/distilbert.html).\n",
        "\n",
        "DistilBert has four pretrained models for specific task in this library:\n",
        "1. TFDistilBertModel\n",
        "2. TFDistilBertForMaskedLM\n",
        "3. TFDistilBertForSequenceClassification\n",
        "4. TFDistilBertForQuestionAnswering\n",
        "\n",
        "Note that the \"TF\" prefix infront of each model is to tell the library that we want a Tensorflow model. If we want a PyTorch model simply omit TF infront of model names.\n",
        "\n",
        "In the above list each model has the TFDistilBert model in it with some additional tweaks in input or output. For example the TFDistilBertForSequenceClassification has a classification layer at the output of the distilbert model and also the inputs are in such a way that special tokens are added to it. \n",
        "\n",
        "\n",
        "We have two methods to implement any of these models. \n",
        "1. Pipeline\n",
        "2. Defining our own model\n"
      ]
    },
    {
      "cell_type": "markdown",
      "metadata": {
        "id": "RjUHBmUcRDHN",
        "colab_type": "text"
      },
      "source": [
        "### **Pipeline**\n",
        "The pipelines are a great and easy way to use models for inference. These pipelines are objects that abstract most of the complex code from the library, offering a simple API dedicated to several tasks, including Named Entity Recognition, Masked Language Modeling, Sentiment Analysis, Feature Extraction and Question Answering.\n",
        "\n",
        "Pipeline workflow is defined as a sequence of the following operations:\n",
        "\n",
        "Input -> Tokenization -> Model Inference -> Post-Processing (Task dependent) -> Output\n",
        "\n"
      ]
    },
    {
      "cell_type": "code",
      "metadata": {
        "id": "9e3C_mHCRf71",
        "colab_type": "code",
        "colab": {
          "base_uri": "https://localhost:8080/",
          "height": 253,
          "referenced_widgets": [
            "1114a0836d884e7f81aacf591d1c6e4f",
            "6e6a73e873ae4df69cde9d181df0a813",
            "0bd7df83db6e4cd1bfa23aa5685e018b",
            "5d164c0e8ea247b1a329f7913eae8558",
            "c7ee93e5bd3945c686b8ad45bf7c659b",
            "8ad96e41c1f6485b9e60046d3c32ec63",
            "caea7abee31a4a1e834f12ae3f01eb2c",
            "f8e0f600de7041de81e9b5f713a855c2",
            "470f0790a54a4e2e9170dab39eaee788",
            "9c0cba73d1da4f9c9329ef55dac50917",
            "bcf5926a57e843d695a9955e58e3a071",
            "699655a661fc4f89ab3bec1547872070",
            "80c42736812e4c24a6528b8879e6f6da",
            "7c0dc70037d4491d9d4c70a85fbf7529",
            "3332ae42861b4eed9efe602a343ee4bb",
            "c8ec0f3da2804e798de5e6803fefd4c5",
            "a8856a1f574a4d66a2382f782de1c178",
            "4783903ae00943f9a375d0f7ba28241d",
            "666cd7668a8f40d8b32693e8c01ccacb",
            "32fbe2b04be747ba8b484d70c3a5c530",
            "bf669916054a4d58869e8048a3e7045d",
            "2014d77ebae3441d8b1754a2d7a358fd",
            "110b9e3fe2f84cd78697aacd703ebcd2",
            "3c116a6254194e2ebed77e17bf2665d5",
            "71b9563f8da14c80ac1b6b5bfc352a6d",
            "eaffe65ed40f451aa057aad03864cc82",
            "418cf1b1bb84450e8bd2ff46bbdd2219",
            "4594a3df868e44a5afc95931e274b7ae",
            "6ea70b9345584fa9871853c58fa76da1",
            "a925c3d6a3944c0696d2541b06d8ea2d",
            "67bcc13427ab4083a35b2eb21d131951",
            "7b6155f2f9ca4cc6adcc98cbc6414745"
          ]
        },
        "outputId": "f55d8541-9ff8-4cda-e316-a6b2fcf47af6"
      },
      "source": [
        "from transformers import pipeline\n",
        "\n",
        "# Sequence Classification\n",
        "sequence_classifier = pipeline(\"sentiment-analysis\")\n",
        "\n",
        "result = sequence_classifier(\"I am really smart and this is not positive\")\n",
        "print(result)\n",
        "\n",
        "\n",
        "result = sequence_classifier(\"I like not being lazy when i dont have a lot of work\")\n",
        "print(result)\n",
        "\n",
        "\n"
      ],
      "execution_count": null,
      "outputs": [
        {
          "output_type": "display_data",
          "data": {
            "application/vnd.jupyter.widget-view+json": {
              "model_id": "1114a0836d884e7f81aacf591d1c6e4f",
              "version_minor": 0,
              "version_major": 2
            },
            "text/plain": [
              "HBox(children=(FloatProgress(value=0.0, description='Downloading', max=629.0, style=ProgressStyle(description_…"
            ]
          },
          "metadata": {
            "tags": []
          }
        },
        {
          "output_type": "stream",
          "text": [
            "\n"
          ],
          "name": "stdout"
        },
        {
          "output_type": "display_data",
          "data": {
            "application/vnd.jupyter.widget-view+json": {
              "model_id": "470f0790a54a4e2e9170dab39eaee788",
              "version_minor": 0,
              "version_major": 2
            },
            "text/plain": [
              "HBox(children=(FloatProgress(value=0.0, description='Downloading', max=231508.0, style=ProgressStyle(descripti…"
            ]
          },
          "metadata": {
            "tags": []
          }
        },
        {
          "output_type": "stream",
          "text": [
            "\n"
          ],
          "name": "stdout"
        },
        {
          "output_type": "display_data",
          "data": {
            "application/vnd.jupyter.widget-view+json": {
              "model_id": "a8856a1f574a4d66a2382f782de1c178",
              "version_minor": 0,
              "version_major": 2
            },
            "text/plain": [
              "HBox(children=(FloatProgress(value=0.0, description='Downloading', max=230.0, style=ProgressStyle(description_…"
            ]
          },
          "metadata": {
            "tags": []
          }
        },
        {
          "output_type": "stream",
          "text": [
            "\n"
          ],
          "name": "stdout"
        },
        {
          "output_type": "display_data",
          "data": {
            "application/vnd.jupyter.widget-view+json": {
              "model_id": "71b9563f8da14c80ac1b6b5bfc352a6d",
              "version_minor": 0,
              "version_major": 2
            },
            "text/plain": [
              "HBox(children=(FloatProgress(value=0.0, description='Downloading', max=267844284.0, style=ProgressStyle(descri…"
            ]
          },
          "metadata": {
            "tags": []
          }
        },
        {
          "output_type": "stream",
          "text": [
            "\n",
            "[{'label': 'NEGATIVE', 'score': 0.9946390390396118}]\n",
            "[{'label': 'POSITIVE', 'score': 0.9947696924209595}]\n"
          ],
          "name": "stdout"
        }
      ]
    },
    {
      "cell_type": "code",
      "metadata": {
        "id": "9c7QDUm9TS-Z",
        "colab_type": "code",
        "colab": {
          "base_uri": "https://localhost:8080/",
          "height": 105,
          "referenced_widgets": [
            "311cdf3c1c294688a547490495967089",
            "d0a6c36d074b4edf80b8a1163235e24d",
            "0d7a46d352744d58adc8ff6d00588d58",
            "62d6df10c9df44dc8248a57921ee5776",
            "247c8ddf52f84bb89bb4ddf2c11e8f63",
            "792d753b15d045a895db166be86879c8",
            "b949bcc2469d48e2adad211086cd92f1",
            "70cacbfbe23e43fe9a3accfa82ddec04"
          ]
        },
        "outputId": "3a6280eb-f296-4faa-dd48-af0e946d56f2"
      },
      "source": [
        "from transformers import pipeline\n",
        "\n",
        "masked_lm = pipeline(\"fill-mask\")\n",
        "print(masked_lm(f\"This is big {masked_lm.tokenizer.mask_token} that never sleeps.\"))"
      ],
      "execution_count": null,
      "outputs": [
        {
          "output_type": "display_data",
          "data": {
            "application/vnd.jupyter.widget-view+json": {
              "model_id": "311cdf3c1c294688a547490495967089",
              "version_minor": 0,
              "version_major": 2
            },
            "text/plain": [
              "HBox(children=(FloatProgress(value=0.0, description='Downloading', max=230.0, style=ProgressStyle(description_…"
            ]
          },
          "metadata": {
            "tags": []
          }
        },
        {
          "output_type": "stream",
          "text": [
            "\n",
            "[{'sequence': '<s> This is big sleep that never sleeps.</s>', 'score': 0.07665348052978516, 'token': 3581}, {'sequence': '<s> This is big fish that never sleeps.</s>', 'score': 0.05561108887195587, 'token': 3539}, {'sequence': '<s> This is big business that never sleeps.</s>', 'score': 0.04515586793422699, 'token': 265}, {'sequence': '<s> This is big beast that never sleeps.</s>', 'score': 0.03939582780003548, 'token': 22067}, {'sequence': '<s> This is big stuff that never sleeps.</s>', 'score': 0.02077295631170273, 'token': 2682}]\n"
          ],
          "name": "stdout"
        }
      ]
    },
    {
      "cell_type": "markdown",
      "metadata": {
        "id": "akZqSwyGTlrD",
        "colab_type": "text"
      },
      "source": [
        "### **Defining our own model**\n",
        "\n",
        "Workflow: Tokenizer definition → Model Definition → Model Training → Inference\n",
        "\n",
        "Since the pipeline method doesnt allow for any customizations this is more preffered. "
      ]
    },
    {
      "cell_type": "markdown",
      "metadata": {
        "id": "e2X_Nr2qYwe5",
        "colab_type": "text"
      },
      "source": [
        "#### **Tokenizer Definition**"
      ]
    },
    {
      "cell_type": "code",
      "metadata": {
        "id": "EHNFjpncW3ae",
        "colab_type": "code",
        "colab": {}
      },
      "source": [
        "from transformers import DistilBertTokenizer\n",
        "import tensorflow as tf\n",
        "import numpy as np\n",
        "\n",
        "# Initializing the tokenizer\n",
        "tokenizer = DistilBertTokenizer.from_pretrained(\"distilbert-base-uncased\")\n",
        "\n",
        "\n",
        "# Function for tokenizing the input \n",
        "def tokenize(sentences, tokenizer):\n",
        "\n",
        "  # Stores all the input ids\n",
        "  input_ids = []\n",
        "\n",
        "  # Stores all the attention masks\n",
        "  attention_mask = []\n",
        "\n",
        "  for sentence in sentences:\n",
        "    #encoding all the inputs\n",
        "    inputs = tokenizer.encode_plus(sentence, add_special_tokens=True, max_length=128, pad_to_max_length=True,return_tensors=\"tf\")\n",
        "\n",
        "    input_ids.append(inputs[\"input_ids\"])\n",
        "    attention_mask.append(inputs[\"attention_mask\"])\n",
        "  \n",
        "\n",
        "  # transforming into an appropriate shape\n",
        "  features = np.asarray(input_ids,dtype='int32')\n",
        "  masks = np.asarray(attention_mask,dtype=\"int32\")\n",
        "\n",
        "  print(features.shape,masks.shape)\n",
        "\n",
        "\n",
        "  # print(tokenizer.convert_ids_to_tokens(features[0,:,:].flatten()))\n",
        "  return features, masks\n"
      ],
      "execution_count": null,
      "outputs": []
    },
    {
      "cell_type": "code",
      "metadata": {
        "id": "GNnPc88GZGkW",
        "colab_type": "code",
        "colab": {
          "base_uri": "https://localhost:8080/"
        },
        "outputId": "659f6479-5237-4bfe-9081-94fed9fa913d"
      },
      "source": [
        "# Contains the vertical stack of encoded sentences\n",
        "input_tensor = tokenize([\"I was really happy yesterday\"],tokenizer)"
      ],
      "execution_count": null,
      "outputs": [
        {
          "output_type": "stream",
          "text": [
            "Truncation was not explicitely activated but `max_length` is provided a specific value, please use `truncation=True` to explicitely truncate examples to max length. Defaulting to 'only_first' truncation strategy. If you encode pairs of sequences (GLUE-style) with the tokenizer you may want to check this is the right behavior.\n"
          ],
          "name": "stderr"
        },
        {
          "output_type": "stream",
          "text": [
            "(1, 1, 128) (1, 1, 128)\n"
          ],
          "name": "stdout"
        }
      ]
    },
    {
      "cell_type": "markdown",
      "metadata": {
        "id": "B16TEaVPZSQ5",
        "colab_type": "text"
      },
      "source": [
        "#### **Model Definition**\n",
        "\n",
        "[Sequential API vs Functional API](https://medium.com/@hanify/sequential-api-vs-functional-api-model-in-keras-266823d7cd5e)"
      ]
    },
    {
      "cell_type": "markdown",
      "metadata": {
        "id": "-e1lQl-Vp2SE",
        "colab_type": "text"
      },
      "source": [
        "##### **Using Sequential API of keras**"
      ]
    },
    {
      "cell_type": "code",
      "metadata": {
        "id": "F8WGY9ZbZeA1",
        "colab_type": "code",
        "colab": {
          "base_uri": "https://localhost:8080/",
          "height": 323
        },
        "outputId": "b7cd1bf5-724c-4c29-c9f1-1285d7fc21e7"
      },
      "source": [
        "from transformers import TFDistilBertForSequenceClassification, DistilBertConfig\n",
        "\n",
        "# DistilBertConfig is the config of the Model\n",
        "# By default TFDistilBertForSequenceClassification has two output labels\n",
        "config = DistilBertConfig(\n",
        "    num_labels = 2\n",
        ")\n",
        "\n",
        "config.output_hidden_states = False\n",
        "# print(config)\n",
        "\n",
        "# labels for the classification\n",
        "labels = [\"positive\",\"negative\"]\n",
        "\n",
        "# model instantiation\n",
        "model = TFDistilBertForSequenceClassification.from_pretrained(\"distilbert-base-uncased\",config=config)\n",
        "\n",
        "print(model.summary())"
      ],
      "execution_count": null,
      "outputs": [
        {
          "output_type": "stream",
          "text": [
            "Model: \"tf_distil_bert_for_sequence_classification_9\"\n",
            "_________________________________________________________________\n",
            "Layer (type)                 Output Shape              Param #   \n",
            "=================================================================\n",
            "distilbert (TFDistilBertMain multiple                  66362880  \n",
            "_________________________________________________________________\n",
            "pre_classifier (Dense)       multiple                  590592    \n",
            "_________________________________________________________________\n",
            "classifier (Dense)           multiple                  1538      \n",
            "_________________________________________________________________\n",
            "dropout_199 (Dropout)        multiple                  0         \n",
            "=================================================================\n",
            "Total params: 66,955,010\n",
            "Trainable params: 66,955,010\n",
            "Non-trainable params: 0\n",
            "_________________________________________________________________\n",
            "None\n"
          ],
          "name": "stdout"
        }
      ]
    },
    {
      "cell_type": "code",
      "metadata": {
        "id": "SsK5boDEepp7",
        "colab_type": "code",
        "colab": {
          "base_uri": "https://localhost:8080/",
          "height": 359
        },
        "outputId": "2300a1a4-be35-4400-ba38-258216533263"
      },
      "source": [
        "[input_tensor[0].reshape((1,128)), input_tensor[1].reshape((1,128))]"
      ],
      "execution_count": null,
      "outputs": [
        {
          "output_type": "execute_result",
          "data": {
            "text/plain": [
              "[array([[ 101, 1045, 2001, 2428, 3407, 7483,  102,    0,    0,    0,    0,\n",
              "            0,    0,    0,    0,    0,    0,    0,    0,    0,    0,    0,\n",
              "            0,    0,    0,    0,    0,    0,    0,    0,    0,    0,    0,\n",
              "            0,    0,    0,    0,    0,    0,    0,    0,    0,    0,    0,\n",
              "            0,    0,    0,    0,    0,    0,    0,    0,    0,    0,    0,\n",
              "            0,    0,    0,    0,    0,    0,    0,    0,    0,    0,    0,\n",
              "            0,    0,    0,    0,    0,    0,    0,    0,    0,    0,    0,\n",
              "            0,    0,    0,    0,    0,    0,    0,    0,    0,    0,    0,\n",
              "            0,    0,    0,    0,    0,    0,    0,    0,    0,    0,    0,\n",
              "            0,    0,    0,    0,    0,    0,    0,    0,    0,    0,    0,\n",
              "            0,    0,    0,    0,    0,    0,    0,    0,    0,    0,    0,\n",
              "            0,    0,    0,    0,    0,    0,    0]], dtype=int32),\n",
              " array([[1, 1, 1, 1, 1, 1, 1, 0, 0, 0, 0, 0, 0, 0, 0, 0, 0, 0, 0, 0, 0, 0,\n",
              "         0, 0, 0, 0, 0, 0, 0, 0, 0, 0, 0, 0, 0, 0, 0, 0, 0, 0, 0, 0, 0, 0,\n",
              "         0, 0, 0, 0, 0, 0, 0, 0, 0, 0, 0, 0, 0, 0, 0, 0, 0, 0, 0, 0, 0, 0,\n",
              "         0, 0, 0, 0, 0, 0, 0, 0, 0, 0, 0, 0, 0, 0, 0, 0, 0, 0, 0, 0, 0, 0,\n",
              "         0, 0, 0, 0, 0, 0, 0, 0, 0, 0, 0, 0, 0, 0, 0, 0, 0, 0, 0, 0, 0, 0,\n",
              "         0, 0, 0, 0, 0, 0, 0, 0, 0, 0, 0, 0, 0, 0, 0, 0, 0, 0]],\n",
              "       dtype=int32)]"
            ]
          },
          "metadata": {
            "tags": []
          },
          "execution_count": 111
        }
      ]
    },
    {
      "cell_type": "code",
      "metadata": {
        "id": "dXR0WVTVaSJA",
        "colab_type": "code",
        "colab": {
          "base_uri": "https://localhost:8080/",
          "height": 35
        },
        "outputId": "c889990b-5033-4924-de1f-621204cfbe98"
      },
      "source": [
        "# model results are always a tuple \n",
        "# foward pass through the model\n",
        "model_output = model([input_tensor[0].reshape((1,128)), input_tensor[1].reshape((1,128))])[0]\n",
        "print(model_output)"
      ],
      "execution_count": null,
      "outputs": [
        {
          "output_type": "stream",
          "text": [
            "tf.Tensor([[ 0.00032082 -0.0713167 ]], shape=(1, 2), dtype=float32)\n"
          ],
          "name": "stdout"
        }
      ]
    },
    {
      "cell_type": "code",
      "metadata": {
        "id": "YaZjUVSxg22a",
        "colab_type": "code",
        "colab": {
          "base_uri": "https://localhost:8080/",
          "height": 35
        },
        "outputId": "9d0ab891-209e-49e8-8225-faf70dec4816"
      },
      "source": [
        "# applying softmax to the output\n",
        "classification_result = tf.nn.softmax(model_output, axis=1).numpy()[0]\n",
        "\n",
        "index = classification_result.argmax()\n",
        "\n",
        "print(labels[index])\n"
      ],
      "execution_count": null,
      "outputs": [
        {
          "output_type": "stream",
          "text": [
            "positive\n"
          ],
          "name": "stdout"
        }
      ]
    },
    {
      "cell_type": "markdown",
      "metadata": {
        "id": "yv-VomRJp7aC",
        "colab_type": "text"
      },
      "source": [
        "##### **Using Functional API of keras**"
      ]
    },
    {
      "cell_type": "code",
      "metadata": {
        "id": "-jgYTDXmqAYJ",
        "colab_type": "code",
        "colab": {}
      },
      "source": [
        "from transformers import TFDistilBertForSequenceClassification, DistilBertConfig\n",
        "\n",
        "config = DistilBertConfig(\n",
        "    num_labels = 2\n",
        ")\n",
        "config.output_hidden_states = False\n",
        "# print(config)\n",
        "\n",
        "labels = [\"positive\",\"negative\"]\n",
        "\n",
        "model = TFDistilBertForSequenceClassification.from_pretrained(\"distilbert-base-uncased\",config=config)\n",
        "\n",
        "input_ids = tf.keras.layers.Input(shape=(128,), name='input_token', dtype='int32')\n",
        "input_masks_ids = tf.keras.layers.Input(shape=(128,), name='masked_token', dtype='int32')\n",
        "\n",
        "model_output = model([input_ids, input_masks_ids])\n",
        "\n",
        "model = tf.keras.Model(inputs=[input_ids, input_masks_ids], outputs = model_output)\n",
        "\n",
        "print(model.summary())"
      ],
      "execution_count": null,
      "outputs": []
    },
    {
      "cell_type": "code",
      "metadata": {
        "id": "2LdTugnXtSC6",
        "colab_type": "code",
        "colab": {}
      },
      "source": [
        "input_ids_tensor = tokenize([\"this is it\"],tokenizer)[0]\n",
        "input_mask_tensor = tokenize([\"this is it\"],tokenizer)[1]\n",
        "print()\n",
        "model.predict([input_ids_tensor.reshape((1,128)),input_mask_tensor.reshape((1,128))])"
      ],
      "execution_count": null,
      "outputs": []
    },
    {
      "cell_type": "markdown",
      "metadata": {
        "id": "SXQHZKCxBxzR",
        "colab_type": "text"
      },
      "source": [
        "## **Pretrained Models**\n",
        "\n",
        "Head to the [docs](https://huggingface.co/transformers/v1.1.0/pretrained_models.html).\n",
        "\n",
        "\n",
        "There is a lot of transformer-based language models. The most successful ones are (as of April 2020)\n",
        "\n",
        "1. Transformer (Google Brain/Research)\n",
        "2. BERT (Google Research)\n",
        "3. GPT-2 (OpenAI)\n",
        "4. XLNet (Google Brain)\n",
        "5. CTRL (SalesForce)\n",
        "6. Megatron (NVidia)\n",
        "7. Turing-NLG (Microsoft)"
      ]
    },
    {
      "cell_type": "markdown",
      "metadata": {
        "id": "bLn0aj77Bx9d",
        "colab_type": "text"
      },
      "source": [
        "## **Training & Fine-Tuning the Models**\n",
        "\n",
        "\n",
        "1. **Quicker Development**\n",
        "\n",
        "    * First, the pre-trained BERT model weights already encode a lot of information about our language. As a result, it takes much less time to train our fine-tuned model - it is as if we have already trained the bottom layers of our network extensively and only need to gently tune them while using their output as features for our classification task. In fact, the authors recommend only 2-4 epochs of training for fine-tuning BERT on a specific NLP task (compared to the hundreds of GPU hours needed to train the original BERT model or a LSTM from scratch!). \n",
        "\n",
        "2. **Less Data**\n",
        "\n",
        "    * In addition and perhaps just as important, because of the pre-trained weights this method allows us to fine-tune our task on a much smaller dataset than would be required in a model that is built from scratch. A major drawback of NLP models built from scratch is that we often need a prohibitively large dataset in order to train our network to reasonable accuracy, meaning a lot of time and energy had to be put into dataset creation. By fine-tuning BERT, we are now able to get away with training a model to good performance on a much smaller amount of training data.\n",
        "\n",
        "3. **Better Results**\n",
        "\n",
        "    * Finally, this simple fine-tuning procedure (typically adding one fully-connected layer on top of BERT and training for a few epochs) was shown to achieve state of the art results with minimal task-specific adjustments for a wide variety of tasks: classification, language inference, semantic similarity, question answering, etc. Rather than implementing custom and sometimes-obscure architetures shown to work well on a specific task, simply fine-tuning BERT is shown to be a better (or at least equal) alternative.\n",
        "\n",
        "\n"
      ]
    },
    {
      "cell_type": "markdown",
      "metadata": {
        "id": "81ZtSHek11i1",
        "colab_type": "text"
      },
      "source": [
        "#### **Without TFTrainer Class**"
      ]
    },
    {
      "cell_type": "code",
      "metadata": {
        "id": "z93pIVFQaLff",
        "colab_type": "code",
        "colab": {
          "base_uri": "https://localhost:8080/",
          "height": 667
        },
        "outputId": "fa0260d3-a282-46fa-8dbf-0fe2f2887a31"
      },
      "source": [
        "from transformers import DistilBertTokenizer, TFDistilBertForSequenceClassification\n",
        "import tensorflow as tf\n",
        "import tensorflow_datasets as tfds\n",
        "\n",
        "# loading the imdb dataset\n",
        "(ds_train,ds_test), ds_info = tfds.load('imdb_reviews',\n",
        "    split = (tfds.Split.TRAIN, tfds.Split.TEST),\n",
        "    as_supervised = True,\n",
        "    with_info = True      \n",
        ")\n",
        "\n",
        "print('info', ds_info)\n",
        "\n"
      ],
      "execution_count": null,
      "outputs": [
        {
          "output_type": "stream",
          "text": [
            "INFO:absl:No config specified, defaulting to first: imdb_reviews/plain_text\n",
            "INFO:absl:Overwrite dataset info from restored data version.\n",
            "INFO:absl:Reusing dataset imdb_reviews (/root/tensorflow_datasets/imdb_reviews/plain_text/1.0.0)\n",
            "INFO:absl:Constructing tf.data.Dataset for split (NamedSplit('train'), NamedSplit('test')), from /root/tensorflow_datasets/imdb_reviews/plain_text/1.0.0\n"
          ],
          "name": "stderr"
        },
        {
          "output_type": "stream",
          "text": [
            "info tfds.core.DatasetInfo(\n",
            "    name='imdb_reviews',\n",
            "    version=1.0.0,\n",
            "    description='Large Movie Review Dataset.\n",
            "This is a dataset for binary sentiment classification containing substantially more data than previous benchmark datasets. We provide a set of 25,000 highly polar movie reviews for training, and 25,000 for testing. There is additional unlabeled data for use as well.',\n",
            "    homepage='http://ai.stanford.edu/~amaas/data/sentiment/',\n",
            "    features=FeaturesDict({\n",
            "        'label': ClassLabel(shape=(), dtype=tf.int64, num_classes=2),\n",
            "        'text': Text(shape=(), dtype=tf.string),\n",
            "    }),\n",
            "    total_num_examples=100000,\n",
            "    splits={\n",
            "        'test': 25000,\n",
            "        'train': 25000,\n",
            "        'unsupervised': 50000,\n",
            "    },\n",
            "    supervised_keys=('text', 'label'),\n",
            "    citation=\"\"\"@InProceedings{maas-EtAl:2011:ACL-HLT2011,\n",
            "      author    = {Maas, Andrew L.  and  Daly, Raymond E.  and  Pham, Peter T.  and  Huang, Dan  and  Ng, Andrew Y.  and  Potts, Christopher},\n",
            "      title     = {Learning Word Vectors for Sentiment Analysis},\n",
            "      booktitle = {Proceedings of the 49th Annual Meeting of the Association for Computational Linguistics: Human Language Technologies},\n",
            "      month     = {June},\n",
            "      year      = {2011},\n",
            "      address   = {Portland, Oregon, USA},\n",
            "      publisher = {Association for Computational Linguistics},\n",
            "      pages     = {142--150},\n",
            "      url       = {http://www.aclweb.org/anthology/P11-1015}\n",
            "    }\"\"\",\n",
            "    redistribution_info=,\n",
            ")\n",
            "\n"
          ],
          "name": "stdout"
        }
      ]
    },
    {
      "cell_type": "code",
      "metadata": {
        "id": "3DvNxSl2XEhO",
        "colab_type": "code",
        "colab": {
          "base_uri": "https://localhost:8080/",
          "height": 125
        },
        "outputId": "da5b8a88-a71d-415f-d7a3-ad9e1249526d"
      },
      "source": [
        "# Viewing the dataset\n",
        "\n",
        "print(tfds.as_numpy(ds_train.take(1)))\n",
        "\n",
        "for review, label in tfds.as_numpy(ds_train.take(5)):\n",
        "    print('review', review.decode()[0:50], label)"
      ],
      "execution_count": null,
      "outputs": [
        {
          "output_type": "stream",
          "text": [
            "<generator object _eager_dataset_iterator at 0x7fc80fd0f678>\n",
            "review This was an absolutely terrible movie. Don't be lu 0\n",
            "review I have been known to fall asleep during films, but 0\n",
            "review Mann photographs the Alberta Rocky Mountains in a  0\n",
            "review This is the kind of film for a snowy Sunday aftern 1\n",
            "review As others have mentioned, all the women that go nu 1\n"
          ],
          "name": "stdout"
        }
      ]
    },
    {
      "cell_type": "code",
      "metadata": {
        "id": "R2WxoSqxc5Gt",
        "colab_type": "code",
        "colab": {
          "base_uri": "https://localhost:8080/",
          "height": 127
        },
        "outputId": "832146a8-f1e7-4430-86de-26c9a2d2221e"
      },
      "source": [
        "from transformers import BertTokenizer, TFBertForSequenceClassification\n",
        "\n",
        "# model instantiation\n",
        "model = TFBertForSequenceClassification.from_pretrained(\"bert-base-uncased\")\n",
        "\n",
        "# tokenizer instantiation\n",
        "tokenizer = BertTokenizer.from_pretrained(\"bert-base-uncased\")\n"
      ],
      "execution_count": null,
      "outputs": [
        {
          "output_type": "stream",
          "text": [
            "WARNING:transformers.modeling_tf_utils:Some weights of the model checkpoint at bert-base-uncased were not used when initializing TFBertForSequenceClassification: ['nsp___cls', 'mlm___cls']\n",
            "- This IS expected if you are initializing TFBertForSequenceClassification from the checkpoint of a model trained on another task or with another architecture (e.g. initializing a BertForSequenceClassification model from a BertForPretraining model).\n",
            "- This IS NOT expected if you are initializing TFBertForSequenceClassification from the checkpoint of a model that you expect to be exactly identical (initializing a BertForSequenceClassification model from a BertForSequenceClassification model).\n",
            "WARNING:transformers.modeling_tf_utils:Some weights of TFBertForSequenceClassification were not initialized from the model checkpoint at bert-base-uncased and are newly initialized: ['classifier', 'dropout_37']\n",
            "You should probably TRAIN this model on a down-stream task to be able to use it for predictions and inference.\n"
          ],
          "name": "stderr"
        }
      ]
    },
    {
      "cell_type": "code",
      "metadata": {
        "id": "Qb4kI9lQdjyU",
        "colab_type": "code",
        "colab": {}
      },
      "source": [
        "# max_length of the input sentence\n",
        "max_length = 512\n",
        "\n",
        "# batch size of the input\n",
        "batch_size = 4\n",
        "\n"
      ],
      "execution_count": null,
      "outputs": []
    },
    {
      "cell_type": "code",
      "metadata": {
        "id": "KcKAwQfXeXc5",
        "colab_type": "code",
        "colab": {}
      },
      "source": [
        "# Converting each encoded input into a dictionary\n",
        "def map_example_to_dict(input_ids, attention_masks, token_type_ids, label):\n",
        "\n",
        "  return {\n",
        "\n",
        "    \"input_ids\":input_ids,\n",
        "    \"token_type_ids\": token_type_ids,\n",
        "    \"attention_mask\": attention_masks  \n",
        "  }, label\n",
        "\n",
        "\n",
        "# Encoding all the examples\n",
        "def encode_examples(ds, limit=-1):\n",
        "\n",
        "  # Storing all the encoded inputs in lists\n",
        "  input_ids_list = []\n",
        "  token_type_ids_list = []\n",
        "  attention_mask_list = []\n",
        "  label_list = []\n",
        "\n",
        "  if (limit > 0):\n",
        "    ds = ds.take(limit)\n",
        "\n",
        "\n",
        "  for review, label in tfds.as_numpy(ds):\n",
        "\n",
        "    # Converting inputs into features\n",
        "    bert_input = tokenizer.encode_plus(review.decode(),\n",
        "                               add_special_tokens=True,\n",
        "                               max_length=max_length,\n",
        "                               pad_to_max_length = True,\n",
        "                               truncation=True,\n",
        "                               return_attention_mask=True) \n",
        "\n",
        "    input_ids_list.append(bert_input[\"input_ids\"])\n",
        "    token_type_ids_list.append(bert_input[\"token_type_ids\"])\n",
        "    attention_mask_list.append(bert_input[\"attention_mask\"])\n",
        "    label_list.append([label])\n",
        "\n",
        "  # Returning the dataset as a properly shaped tensor\n",
        "  print(tf.data.Dataset.from_tensor_slices((input_ids_list,token_type_ids_list,attention_mask_list, label_list)).map(map_example_to_dict))\n",
        "  return tf.data.Dataset.from_tensor_slices((input_ids_list,token_type_ids_list,attention_mask_list, label_list)).map(map_example_to_dict)\n"
      ],
      "execution_count": null,
      "outputs": []
    },
    {
      "cell_type": "code",
      "metadata": {
        "id": "XHFdxX9wfDoV",
        "colab_type": "code",
        "colab": {
          "base_uri": "https://localhost:8080/",
          "height": 35
        },
        "outputId": "8d7f32aa-763e-4ff7-f6c4-b957a292f969"
      },
      "source": [
        "# Encoding the train dataset\n",
        "ds_train_encoded = encode_examples(ds_train).shuffle(10000).batch(batch_size)\n",
        "# Encoding the test dataset\n",
        "ds_test_encoded = encode_examples(ds_test).batch(batch_size)"
      ],
      "execution_count": null,
      "outputs": [
        {
          "output_type": "stream",
          "text": [
            "<MapDataset shapes: ({input_ids: (512,), token_type_ids: (512,), attention_mask: (512,)}, (1,)), types: ({input_ids: tf.int32, token_type_ids: tf.int32, attention_mask: tf.int32}, tf.int32)>\n"
          ],
          "name": "stdout"
        }
      ]
    },
    {
      "cell_type": "code",
      "metadata": {
        "id": "fyn-fie3gxtq",
        "colab_type": "code",
        "colab": {}
      },
      "source": [
        "# Fine tuning the optimizer \n",
        "optimizer = tf.keras.optimizers.Adam(learning_rate=2e-5, epsilon=1e-08, clipnorm=1.0)\n",
        "loss = tf.keras.losses.SparseCategoricalCrossentropy(from_logits=True)\n",
        "metric = tf.keras.metrics.SparseCategoricalAccuracy('accuracy')\n",
        "model.compile(optimizer=optimizer, loss=loss, metrics=[metric])"
      ],
      "execution_count": null,
      "outputs": []
    },
    {
      "cell_type": "code",
      "metadata": {
        "id": "fxomqOU3hJdL",
        "colab_type": "code",
        "colab": {
          "base_uri": "https://localhost:8080/",
          "height": 89
        },
        "outputId": "6e51ea2b-053e-46ac-9c63-b92fc4fca77e"
      },
      "source": [
        "# Training the model\n",
        "history = model.fit(ds_train_encoded, epochs = 2, validation_data=ds_test_encoded)"
      ],
      "execution_count": null,
      "outputs": [
        {
          "output_type": "stream",
          "text": [
            "Epoch 1/2\n",
            "6250/6250 [==============================] - 2608s 417ms/step - loss: 0.3930 - accuracy: 0.7984 - val_loss: 0.2351 - val_accuracy: 0.9086\n",
            "Epoch 2/2\n",
            "6250/6250 [==============================] - 2616s 419ms/step - loss: 0.2107 - accuracy: 0.9329 - val_loss: 0.3490 - val_accuracy: 0.9214\n"
          ],
          "name": "stdout"
        }
      ]
    },
    {
      "cell_type": "markdown",
      "metadata": {
        "id": "ZToX9R27oO8z",
        "colab_type": "text"
      },
      "source": [
        "That looks reasonable in comparison with the current state of the art results. According to (Sun C et al. 2019) we can achieve up to 95.79 accuracy with BERT large on this task. The only better accuracy than BERT large on this task has XLNet from Google AI Brain. XLNet can be also easily used with transformers library with just minor changes to the code."
      ]
    },
    {
      "cell_type": "markdown",
      "metadata": {
        "id": "O7VB9f3lsecQ",
        "colab_type": "text"
      },
      "source": [
        "![image.png](data:image/png;base64,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)"
      ]
    },
    {
      "cell_type": "markdown",
      "metadata": {
        "id": "VqhFJ5Nq1-vv",
        "colab_type": "text"
      },
      "source": [
        "#### **With TFTrainer Class**"
      ]
    },
    {
      "cell_type": "code",
      "metadata": {
        "id": "9RNl2kVY2DCh",
        "colab_type": "code",
        "colab": {}
      },
      "source": [
        "from transformers import TFBertForSequenceClassification, BertTokenizer, TFTrainer, TFTrainingArguments\n",
        "\n",
        "import tensorflow as tf\n",
        "import tensorflow_dataset as \n",
        "\n",
        "\n",
        "model = TFBertForSequenceClassification.from_pretrained(\"bert-base-uncased\")\n",
        "tokenizer = BertTokenizer.from_pretrained(\"bert-base-uncased\")\n",
        "\n",
        "\n",
        "# training_args = TFTrainingArguments(\n",
        "#     output_dir='./results',          # output directory\n",
        "#     num_train_epochs=3,              # total # of training epochs\n",
        "#     per_device_train_batch_size=16,  # batch size per device during training\n",
        "#     per_device_eval_batch_size=64,   # batch size for evaluation\n",
        "#     warmup_steps=500,                # number of warmup steps for learning rate scheduler\n",
        "#     weight_decay=0.01,               # strength of weight decay\n",
        "#     logging_dir='./logs',            # directory for storing logs\n",
        "# )\n",
        "\n",
        "\n",
        "\n",
        "\n",
        "# trainer = TFTrainer(\n",
        "#     model=model,                         # the instantiated 🤗 Transformers model to be trained\n",
        "#     args=training_args,                  # training arguments, defined above\n",
        "#     train_dataset=tfds_train_dataset,    # tensorflow_datasets training dataset\n",
        "#     eval_dataset=tfds_test_dataset       # tensorflow_datasets evaluation dataset\n",
        "# )\n"
      ],
      "execution_count": null,
      "outputs": []
    },
    {
      "cell_type": "markdown",
      "metadata": {
        "id": "sGbApr_kByDr",
        "colab_type": "text"
      },
      "source": [
        "## **Use Cases**"
      ]
    },
    {
      "cell_type": "markdown",
      "metadata": {
        "id": "-Ja0Qreo3K2n",
        "colab_type": "text"
      },
      "source": [
        "1. Can be used to replace the current lstms models in many other applications.\n",
        "2. \n",
        "3. "
      ]
    },
    {
      "cell_type": "markdown",
      "metadata": {
        "id": "L-J6_1pf23NO",
        "colab_type": "text"
      },
      "source": [
        "# **References**\n",
        "\n",
        "\n",
        "1. Illustrated Bert: http://jalammar.github.io/illustrated-bert/\n",
        "http://jalammar.github.io/illustrated-bert/\n",
        "2. Illustrated Transformer: https://jalammar.github.io/illustrated-transformer/\n",
        "3. Visualizing Neural Machine Translation: https://jalammar.github.io/visualizing-neural-machine-translation-mechanics-of-seq2seq-models-with-attention/\n",
        "4. Łukasz Kaiser's talk: https://www.youtube.com/watch?v=rBCqOTEfxvg&t=2249s\n",
        "5. Masking in Transformers’ self-attention mechanism: https://medium.com/analytics-vidhya/masking-in-transformers-self-attention-mechanism-bad3c9ec235c\n",
        "6. Understanding Encoder-Decoder Sequence to Sequence Model: https://towardsdatascience.com/understanding-encoder-decoder-sequence-to-sequence-model-679e04af4346\n",
        "7. Transformer: A Novel Neural Network Architecture for Language Understanding: https://ai.googleblog.com/2017/08/transformer-novel-neural-network.html\n",
        "8. The Annotated Transformer: https://nlp.seas.harvard.edu/2018/04/03/attention.html#encoder-and-decoder-stacks\n",
        "9. A Visual Guide to Using BERT: http://jalammar.github.io/a-visual-guide-to-using-bert-for-the-first-time/\n"
      ]
    }
  ]
}